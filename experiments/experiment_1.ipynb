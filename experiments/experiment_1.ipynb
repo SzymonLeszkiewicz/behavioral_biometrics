{
 "cells": [
  {
   "metadata": {},
   "cell_type": "markdown",
   "source": [
    "Przetestowanie skuteczności systemu (wyrażonej w omówionych metrykach) na\n",
    "nie mniej niż 500 próbkach wdrożonych użytkowników (zbalansuj prawidłowe\n",
    "próby uwierzytelnienia i próby podszycia się pod innych użytkowników)."
   ],
   "id": "357a41d109cd8379"
  },
  {
   "metadata": {},
   "cell_type": "markdown",
   "source": "# Imports",
   "id": "1005bfa3ca3bd480"
  },
  {
   "cell_type": "code",
   "id": "initial_id",
   "metadata": {
    "collapsed": true,
    "ExecuteTime": {
     "end_time": "2024-05-12T15:15:44.395553Z",
     "start_time": "2024-05-12T15:15:42.369865Z"
    }
   },
   "source": [
    "import json\n",
    "import os\n",
    "\n",
    "import numpy as np\n",
    "\n",
    "from experiments.prepare_experiments import prepare_experiment_1\n",
    "from scripts.voice_recognition_system import VoiceRecognitionSystem"
   ],
   "outputs": [
    {
     "name": "stderr",
     "output_type": "stream",
     "text": [
      "C:\\Virtual_Environments\\venv_BIO_3.12\\Lib\\site-packages\\tqdm\\auto.py:21: TqdmWarning: IProgress not found. Please update jupyter and ipywidgets. See https://ipywidgets.readthedocs.io/en/stable/user_install.html\n",
      "  from .autonotebook import tqdm as notebook_tqdm\n"
     ]
    }
   ],
   "execution_count": 1
  },
  {
   "metadata": {},
   "cell_type": "markdown",
   "source": "# Define File Paths",
   "id": "362a695c57af8f81"
  },
  {
   "metadata": {
    "ExecuteTime": {
     "end_time": "2024-05-12T15:15:44.399060Z",
     "start_time": "2024-05-12T15:15:44.396556Z"
    }
   },
   "cell_type": "code",
   "source": [
    "parent_directory = os.path.abspath(os.path.join(os.getcwd(), os.pardir))\n",
    "data_directory = os.path.join(parent_directory, \"data\")\n",
    "\n",
    "database_path = os.path.join(data_directory, \"database\")\n",
    "\n",
    "incoming_authorized_users_path = os.path.join(\n",
    "    data_directory, \"database\", \"incoming_users\", \"authorized_users\"\n",
    ")\n",
    "incoming_unauthorized_users_path = os.path.join(\n",
    "    data_directory, \"database\", \"incoming_users\", \"unauthorized_users\"\n",
    ")"
   ],
   "id": "455ae60236dae25",
   "outputs": [],
   "execution_count": 2
  },
  {
   "metadata": {
    "ExecuteTime": {
     "end_time": "2024-05-12T15:15:44.403063Z",
     "start_time": "2024-05-12T15:15:44.399060Z"
    }
   },
   "cell_type": "code",
   "source": [
    "experiment_name = \"experiment_1\"\n",
    "experiment_path = os.path.join(data_directory, experiment_name)\n",
    "\n",
    "experiment_authorized_path = os.path.join(experiment_path, \"authorized\")\n",
    "experiment_unauthorized_path = os.path.join(experiment_path, \"unauthorized\")"
   ],
   "id": "8e45ca7b1a6c4d9a",
   "outputs": [],
   "execution_count": 3
  },
  {
   "metadata": {
    "ExecuteTime": {
     "end_time": "2024-05-12T15:15:44.417026Z",
     "start_time": "2024-05-12T15:15:44.403063Z"
    }
   },
   "cell_type": "code",
   "source": [
    "results_path = os.path.join(parent_directory, \"results\", experiment_name)\n",
    "\n",
    "if not os.path.exists(results_path):\n",
    "    os.makedirs(results_path, exist_ok=True)"
   ],
   "id": "381ec74f3462e82f",
   "outputs": [],
   "execution_count": 4
  },
  {
   "metadata": {},
   "cell_type": "markdown",
   "source": "# Initialize System",
   "id": "f27d3191d20f7739"
  },
  {
   "metadata": {
    "ExecuteTime": {
     "end_time": "2024-05-12T15:16:06.215549Z",
     "start_time": "2024-05-12T15:15:44.418030Z"
    }
   },
   "cell_type": "code",
   "source": [
    "voice_recognition_system = VoiceRecognitionSystem(\n",
    "    database_path, acceptance_threshold=0.7, allow_brute_force=False\n",
    ")"
   ],
   "id": "fb5647b3a42b2035",
   "outputs": [
    {
     "name": "stderr",
     "output_type": "stream",
     "text": [
      "WARNING:root:unexpected tensor: projection.weight\n",
      "Initializing database: 100%|██████████| 100/100 [00:21<00:00,  4.70it/s]\n"
     ]
    }
   ],
   "execution_count": 5
  },
  {
   "metadata": {},
   "cell_type": "markdown",
   "source": "# Prepare Experiment",
   "id": "d39ffc41c0eecc60"
  },
  {
   "metadata": {
    "ExecuteTime": {
     "end_time": "2024-05-12T15:16:08.914239Z",
     "start_time": "2024-05-12T15:16:06.215549Z"
    }
   },
   "cell_type": "code",
   "source": [
    "prepare_experiment_1(\n",
    "    experiment_path,\n",
    "    incoming_authorized_users_path,\n",
    "    incoming_unauthorized_users_path,\n",
    "    500,\n",
    ")"
   ],
   "id": "fbc642cd032ee6cd",
   "outputs": [],
   "execution_count": 6
  },
  {
   "metadata": {},
   "cell_type": "markdown",
   "source": "# Conduct Experiment",
   "id": "da5832cfaeb65cf3"
  },
  {
   "metadata": {},
   "cell_type": "markdown",
   "source": "### Without brute force",
   "id": "65e003443fe9b44f"
  },
  {
   "metadata": {
    "ExecuteTime": {
     "end_time": "2024-05-12T15:17:00.656737Z",
     "start_time": "2024-05-12T15:16:08.914239Z"
    }
   },
   "cell_type": "code",
   "source": [
    "df_authorized_users = voice_recognition_system.verify_multiple_users(\n",
    "    incoming_users_path=experiment_authorized_path,\n",
    ")"
   ],
   "id": "66cce8185326684f",
   "outputs": [
    {
     "name": "stderr",
     "output_type": "stream",
     "text": [
      "Veryfing multiple users: 100%|██████████| 50/50 [00:51<00:00,  1.03s/it]\n"
     ]
    }
   ],
   "execution_count": 7
  },
  {
   "metadata": {
    "ExecuteTime": {
     "end_time": "2024-05-12T15:17:31.381552Z",
     "start_time": "2024-05-12T15:17:00.657741Z"
    }
   },
   "cell_type": "code",
   "source": [
    "df_unauthorized_users = voice_recognition_system.verify_multiple_users(\n",
    "    incoming_users_path=experiment_unauthorized_path,\n",
    ")"
   ],
   "id": "50231127a9be5b1b",
   "outputs": [
    {
     "name": "stderr",
     "output_type": "stream",
     "text": [
      "Veryfing multiple users: 100%|██████████| 50/50 [00:30<00:00,  1.63it/s]\n"
     ]
    }
   ],
   "execution_count": 8
  },
  {
   "metadata": {},
   "cell_type": "markdown",
   "source": "### With brute force",
   "id": "bc7bf5424699cc99"
  },
  {
   "metadata": {
    "ExecuteTime": {
     "end_time": "2024-05-12T15:17:31.385083Z",
     "start_time": "2024-05-12T15:17:31.382556Z"
    }
   },
   "cell_type": "code",
   "source": "voice_recognition_system.allow_brute_force = True",
   "id": "1ca72fe66a023a34",
   "outputs": [],
   "execution_count": 9
  },
  {
   "metadata": {
    "ExecuteTime": {
     "end_time": "2024-05-12T15:18:06.752872Z",
     "start_time": "2024-05-12T15:17:49.123723Z"
    }
   },
   "cell_type": "code",
   "source": [
    "df_unauthorized_users_brute_force = voice_recognition_system.verify_multiple_users(\n",
    "    incoming_users_path=experiment_unauthorized_path\n",
    ")"
   ],
   "id": "8ac49e9333a7525c",
   "outputs": [
    {
     "name": "stderr",
     "output_type": "stream",
     "text": [
      "Veryfing multiple users: 100%|██████████| 50/50 [00:17<00:00,  2.84it/s]\n"
     ]
    }
   ],
   "execution_count": 11
  },
  {
   "metadata": {},
   "cell_type": "markdown",
   "source": "# Calculating metrics",
   "id": "c20b2ff55d7ccc2"
  },
  {
   "metadata": {
    "ExecuteTime": {
     "end_time": "2024-05-12T15:18:06.756345Z",
     "start_time": "2024-05-12T15:18:06.753877Z"
    }
   },
   "cell_type": "code",
   "source": [
    "configurations = {\n",
    "    \"default\": (df_authorized_users, df_unauthorized_users),\n",
    "    \"brute_force\": (\n",
    "        df_authorized_users,\n",
    "        df_unauthorized_users_brute_force,\n",
    "    ),\n",
    "}"
   ],
   "id": "60bbce24bb51c68",
   "outputs": [],
   "execution_count": 12
  },
  {
   "metadata": {
    "ExecuteTime": {
     "end_time": "2024-05-12T15:18:07.166008Z",
     "start_time": "2024-05-12T15:18:06.757351Z"
    }
   },
   "cell_type": "code",
   "source": [
    "for configuration_name in configurations.keys():\n",
    "    df_authorized_users, df_unauthorized_users = configurations[configuration_name]\n",
    "\n",
    "    false_acceptance_rate, false_rejection_rate = (\n",
    "        voice_recognition_system.calculate_far_frr(\n",
    "            df_authorized_users, df_unauthorized_users\n",
    "        )\n",
    "    )\n",
    "    true_negative, false_positive, false_negative, true_positive = (\n",
    "        voice_recognition_system.calculate_ROC_curve(\n",
    "            df_authorized_users,\n",
    "            df_unauthorized_users,\n",
    "            roc_curve_path=os.path.join(\n",
    "                results_path, f\"ROC_curve_{configuration_name}.png\"\n",
    "            ),\n",
    "        )\n",
    "    )\n",
    "    accuracy = (true_positive + true_negative) / (\n",
    "        true_positive + true_negative + false_positive + false_negative\n",
    "    )\n",
    "    access_granted_rate = voice_recognition_system.calculate_access_granted_rate(\n",
    "        df_authorized_users\n",
    "    )\n",
    "    results_dict = {\n",
    "        \"FAR\": np.round(false_acceptance_rate, 3),\n",
    "        \"FRR\": np.round(false_rejection_rate, 3),\n",
    "        \"TN\": true_negative,\n",
    "        \"FP\": false_positive,\n",
    "        \"FN\": false_negative,\n",
    "        \"TP\": true_positive,\n",
    "        \"ACC\": np.round(accuracy, 3),\n",
    "        \"AGR\": np.round(access_granted_rate, 3),\n",
    "    }\n",
    "\n",
    "    # convert int64 values to native Python integers\n",
    "    for key, value in results_dict.items():\n",
    "        results_dict[key] = int(value) if isinstance(value, np.int64) else value\n",
    "\n",
    "    with open(\n",
    "        os.path.join(results_path, f\"results_{configuration_name}.json\"), \"w\"\n",
    "    ) as json_file:\n",
    "        json.dump(results_dict, json_file, indent=4)"
   ],
   "id": "a62d7baaff378e70",
   "outputs": [],
   "execution_count": 13
  }
 ],
 "metadata": {
  "kernelspec": {
   "display_name": "Python 3",
   "language": "python",
   "name": "python3"
  },
  "language_info": {
   "codemirror_mode": {
    "name": "ipython",
    "version": 2
   },
   "file_extension": ".py",
   "mimetype": "text/x-python",
   "name": "python",
   "nbconvert_exporter": "python",
   "pygments_lexer": "ipython2",
   "version": "2.7.6"
  }
 },
 "nbformat": 4,
 "nbformat_minor": 5
}
