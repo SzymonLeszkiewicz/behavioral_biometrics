{
 "cells": [
  {
   "cell_type": "code",
   "execution_count": 1,
   "id": "initial_id",
   "metadata": {
    "collapsed": true,
    "ExecuteTime": {
     "end_time": "2024-05-10T22:35:51.079519Z",
     "start_time": "2024-05-10T22:35:49.305274Z"
    }
   },
   "outputs": [
    {
     "name": "stderr",
     "output_type": "stream",
     "text": [
      "/Users/szymonleszkiewicz/anaconda3/envs/bio2/lib/python3.10/site-packages/tqdm/auto.py:21: TqdmWarning: IProgress not found. Please update jupyter and ipywidgets. See https://ipywidgets.readthedocs.io/en/stable/user_install.html\n",
      "  from .autonotebook import tqdm as notebook_tqdm\n"
     ]
    }
   ],
   "source": [
    "import os\n",
    "from experiments import prep_exp\n",
    "from scripts.signal_manipulation import *\n",
    "from scripts.voice_recognition_system import VoiceRecognitionSystem\n",
    "import json"
   ]
  },
  {
   "cell_type": "code",
   "outputs": [],
   "source": [
    "# make results directory\n",
    "res_dir = 'results'\n",
    "if not os.path.exists(os.path.join('..',res_dir)):\n",
    "    os.makedirs(os.path.join('..',res_dir))"
   ],
   "metadata": {
    "collapsed": false,
    "ExecuteTime": {
     "end_time": "2024-05-10T22:35:51.085734Z",
     "start_time": "2024-05-10T22:35:51.080501Z"
    }
   },
   "id": "7359d9f70233350",
   "execution_count": 2
  },
  {
   "cell_type": "code",
   "outputs": [],
   "source": [
    "parent_directory = os.path.abspath(os.path.join(os.getcwd(), os.pardir))\n",
    "data_directory = os.path.join(parent_directory, \"data\")"
   ],
   "metadata": {
    "collapsed": false,
    "ExecuteTime": {
     "end_time": "2024-05-10T22:35:51.086185Z",
     "start_time": "2024-05-10T22:35:51.082866Z"
    }
   },
   "id": "84e158cdd38aeefa",
   "execution_count": 3
  },
  {
   "cell_type": "code",
   "outputs": [],
   "source": [
    "database_path = os.path.join(data_directory, \"database\")\n",
    "\n",
    "incoming_authorized_users_path = os.path.join(\n",
    "    data_directory, \"database\", \"incoming_users\", \"authorized_users\"\n",
    ")\n",
    "incoming_unauthorized_users_path = os.path.join(\n",
    "    data_directory, \"database\", \"incoming_users\", \"unauthorized_users\"\n",
    ")"
   ],
   "metadata": {
    "collapsed": false,
    "ExecuteTime": {
     "end_time": "2024-05-10T22:35:51.091950Z",
     "start_time": "2024-05-10T22:35:51.086441Z"
    }
   },
   "id": "d9c2e5e33193fa76",
   "execution_count": 4
  },
  {
   "cell_type": "code",
   "outputs": [
    {
     "name": "stderr",
     "output_type": "stream",
     "text": [
      "WARNING:root:unexpected tensor: projection.weight\n",
      "Initializing database: 100%|██████████| 9/9 [00:08<00:00,  1.03it/s]\n",
      "WARNING:root:unexpected tensor: projection.weight\n",
      "Initializing database: 100%|██████████| 9/9 [00:08<00:00,  1.06it/s]\n"
     ]
    }
   ],
   "source": [
    "voice_recognition_system = VoiceRecognitionSystem(database_path)\n",
    "voice_recognition_system_brute_force = VoiceRecognitionSystem(\n",
    "    database_path, allow_brute_force=True\n",
    ")"
   ],
   "metadata": {
    "collapsed": false,
    "ExecuteTime": {
     "end_time": "2024-05-10T22:36:08.844026Z",
     "start_time": "2024-05-10T22:35:51.088587Z"
    }
   },
   "id": "867fc3797ca5fd84",
   "execution_count": 5
  },
  {
   "cell_type": "markdown",
   "source": [
    "# Exp1 - min 500 samples of authorized users"
   ],
   "metadata": {
    "collapsed": false
   },
   "id": "dd37dc18c7beb021"
  },
  {
   "cell_type": "code",
   "outputs": [],
   "source": [
    "exp1_dir = 'exp1'\n",
    "test_size = 5\n",
    "prep_exp.prep_exp1(exp1_dir, test_size)"
   ],
   "metadata": {
    "collapsed": false,
    "ExecuteTime": {
     "end_time": "2024-05-10T22:36:08.854119Z",
     "start_time": "2024-05-10T22:36:08.841365Z"
    }
   },
   "id": "e704e3f8cfb8cfb",
   "execution_count": 6
  },
  {
   "cell_type": "code",
   "outputs": [
    {
     "name": "stderr",
     "output_type": "stream",
     "text": [
      "Veryfing multiple users: 100%|██████████| 6/6 [00:12<00:00,  2.07s/it]\n"
     ]
    }
   ],
   "source": [
    "exp1_df = voice_recognition_system_brute_force.verify_multiple_users(\n",
    "    incoming_users_path=os.path.join(data_directory, exp1_dir),\n",
    ")\n",
    "exp1_df.to_csv(os.path.join('..', res_dir, f'{exp1_dir}.csv'))"
   ],
   "metadata": {
    "collapsed": false,
    "ExecuteTime": {
     "end_time": "2024-05-10T22:36:21.310243Z",
     "start_time": "2024-05-10T22:36:08.859206Z"
    }
   },
   "id": "76c17beb1b3a10df",
   "execution_count": 7
  },
  {
   "cell_type": "code",
   "outputs": [
    {
     "data": {
      "text/plain": "                                          audio_path is_access_granted  \\\n0  /Users/szymonleszkiewicz/Desktop/pyProjects/be...              True   \n1  /Users/szymonleszkiewicz/Desktop/pyProjects/be...              True   \n2  /Users/szymonleszkiewicz/Desktop/pyProjects/be...              True   \n3  /Users/szymonleszkiewicz/Desktop/pyProjects/be...              True   \n4  /Users/szymonleszkiewicz/Desktop/pyProjects/be...              True   \n\n   confidence  \n0    0.833629  \n1    0.801910  \n2    0.842740  \n3    0.853910  \n4    0.856643  ",
      "text/html": "<div>\n<style scoped>\n    .dataframe tbody tr th:only-of-type {\n        vertical-align: middle;\n    }\n\n    .dataframe tbody tr th {\n        vertical-align: top;\n    }\n\n    .dataframe thead th {\n        text-align: right;\n    }\n</style>\n<table border=\"1\" class=\"dataframe\">\n  <thead>\n    <tr style=\"text-align: right;\">\n      <th></th>\n      <th>audio_path</th>\n      <th>is_access_granted</th>\n      <th>confidence</th>\n    </tr>\n  </thead>\n  <tbody>\n    <tr>\n      <th>0</th>\n      <td>/Users/szymonleszkiewicz/Desktop/pyProjects/be...</td>\n      <td>True</td>\n      <td>0.833629</td>\n    </tr>\n    <tr>\n      <th>1</th>\n      <td>/Users/szymonleszkiewicz/Desktop/pyProjects/be...</td>\n      <td>True</td>\n      <td>0.801910</td>\n    </tr>\n    <tr>\n      <th>2</th>\n      <td>/Users/szymonleszkiewicz/Desktop/pyProjects/be...</td>\n      <td>True</td>\n      <td>0.842740</td>\n    </tr>\n    <tr>\n      <th>3</th>\n      <td>/Users/szymonleszkiewicz/Desktop/pyProjects/be...</td>\n      <td>True</td>\n      <td>0.853910</td>\n    </tr>\n    <tr>\n      <th>4</th>\n      <td>/Users/szymonleszkiewicz/Desktop/pyProjects/be...</td>\n      <td>True</td>\n      <td>0.856643</td>\n    </tr>\n  </tbody>\n</table>\n</div>"
     },
     "execution_count": 8,
     "metadata": {},
     "output_type": "execute_result"
    }
   ],
   "source": [
    "exp1_df.head()"
   ],
   "metadata": {
    "collapsed": false,
    "ExecuteTime": {
     "end_time": "2024-05-10T22:36:21.326389Z",
     "start_time": "2024-05-10T22:36:21.313056Z"
    }
   },
   "id": "7433b46e6cd0477f",
   "execution_count": 8
  },
  {
   "cell_type": "markdown",
   "source": [
    "# Exp2 - random amplitude multiply"
   ],
   "metadata": {
    "collapsed": false
   },
   "id": "eee1ac7748df3dcf"
  },
  {
   "cell_type": "code",
   "outputs": [
    {
     "name": "stderr",
     "output_type": "stream",
     "text": [
      "                                                     ?, ?it/s]\r"
     ]
    }
   ],
   "source": [
    "exp2_dir = 'exp2'\n",
    "prep_exp.prep_exp2(exp1_dir, exp2_dir, test_size)"
   ],
   "metadata": {
    "collapsed": false,
    "ExecuteTime": {
     "end_time": "2024-05-10T22:36:21.479709Z",
     "start_time": "2024-05-10T22:36:21.319322Z"
    }
   },
   "id": "4f55487b6ea29973",
   "execution_count": 9
  },
  {
   "cell_type": "code",
   "outputs": [
    {
     "name": "stderr",
     "output_type": "stream",
     "text": [
      "Veryfing multiple users: 100%|██████████| 6/6 [00:12<00:00,  2.11s/it]\n"
     ]
    }
   ],
   "source": [
    "exp2_df = voice_recognition_system_brute_force.verify_multiple_users(\n",
    "    incoming_users_path=os.path.join(data_directory, exp2_dir),\n",
    ")\n",
    "exp2_df.to_csv(os.path.join('..', res_dir, f'{exp2_dir}.csv'))"
   ],
   "metadata": {
    "collapsed": false,
    "ExecuteTime": {
     "end_time": "2024-05-10T22:36:34.032116Z",
     "start_time": "2024-05-10T22:36:21.358334Z"
    }
   },
   "id": "a45d203b4b0c7437",
   "execution_count": 10
  },
  {
   "cell_type": "code",
   "outputs": [
    {
     "data": {
      "text/plain": "                                          audio_path is_access_granted  \\\n0  /Users/szymonleszkiewicz/Desktop/pyProjects/be...              True   \n1  /Users/szymonleszkiewicz/Desktop/pyProjects/be...              True   \n2  /Users/szymonleszkiewicz/Desktop/pyProjects/be...              True   \n3  /Users/szymonleszkiewicz/Desktop/pyProjects/be...              True   \n4  /Users/szymonleszkiewicz/Desktop/pyProjects/be...              True   \n\n   confidence  \n0    0.827424  \n1    0.801910  \n2    0.856643  \n3    0.861669  \n4    0.853910  ",
      "text/html": "<div>\n<style scoped>\n    .dataframe tbody tr th:only-of-type {\n        vertical-align: middle;\n    }\n\n    .dataframe tbody tr th {\n        vertical-align: top;\n    }\n\n    .dataframe thead th {\n        text-align: right;\n    }\n</style>\n<table border=\"1\" class=\"dataframe\">\n  <thead>\n    <tr style=\"text-align: right;\">\n      <th></th>\n      <th>audio_path</th>\n      <th>is_access_granted</th>\n      <th>confidence</th>\n    </tr>\n  </thead>\n  <tbody>\n    <tr>\n      <th>0</th>\n      <td>/Users/szymonleszkiewicz/Desktop/pyProjects/be...</td>\n      <td>True</td>\n      <td>0.827424</td>\n    </tr>\n    <tr>\n      <th>1</th>\n      <td>/Users/szymonleszkiewicz/Desktop/pyProjects/be...</td>\n      <td>True</td>\n      <td>0.801910</td>\n    </tr>\n    <tr>\n      <th>2</th>\n      <td>/Users/szymonleszkiewicz/Desktop/pyProjects/be...</td>\n      <td>True</td>\n      <td>0.856643</td>\n    </tr>\n    <tr>\n      <th>3</th>\n      <td>/Users/szymonleszkiewicz/Desktop/pyProjects/be...</td>\n      <td>True</td>\n      <td>0.861669</td>\n    </tr>\n    <tr>\n      <th>4</th>\n      <td>/Users/szymonleszkiewicz/Desktop/pyProjects/be...</td>\n      <td>True</td>\n      <td>0.853910</td>\n    </tr>\n  </tbody>\n</table>\n</div>"
     },
     "execution_count": 11,
     "metadata": {},
     "output_type": "execute_result"
    }
   ],
   "source": [
    "exp2_df.head()"
   ],
   "metadata": {
    "collapsed": false,
    "ExecuteTime": {
     "end_time": "2024-05-10T22:36:34.040976Z",
     "start_time": "2024-05-10T22:36:34.034757Z"
    }
   },
   "id": "55a3698f5a7fc66c",
   "execution_count": 11
  },
  {
   "cell_type": "markdown",
   "source": [
    "# Exp3 - random amplitude add"
   ],
   "metadata": {
    "collapsed": false
   },
   "id": "bc54a2ac29fdba01"
  },
  {
   "cell_type": "code",
   "outputs": [],
   "source": [
    "exp3_dir = 'exp3'"
   ],
   "metadata": {
    "collapsed": false,
    "ExecuteTime": {
     "end_time": "2024-05-10T22:36:34.041546Z",
     "start_time": "2024-05-10T22:36:34.037894Z"
    }
   },
   "id": "ca972181b9601abd",
   "execution_count": 12
  },
  {
   "cell_type": "code",
   "outputs": [
    {
     "name": "stderr",
     "output_type": "stream",
     "text": [
      "                                                             9.86it/s]\r"
     ]
    }
   ],
   "source": [
    "exp31, exp32, exp33 = prep_exp.prep_exp3(exp3_dir)"
   ],
   "metadata": {
    "collapsed": false,
    "ExecuteTime": {
     "end_time": "2024-05-10T22:36:35.866142Z",
     "start_time": "2024-05-10T22:36:34.040524Z"
    }
   },
   "id": "8c5472ad74862a14",
   "execution_count": 13
  },
  {
   "cell_type": "code",
   "outputs": [
    {
     "name": "stderr",
     "output_type": "stream",
     "text": [
      "Veryfing multiple users: 100%|██████████| 8/8 [02:06<00:00, 15.84s/it]\n"
     ]
    }
   ],
   "source": [
    "exp31_df = voice_recognition_system_brute_force.verify_multiple_users(\n",
    "    incoming_users_path=os.path.join(data_directory, exp31),\n",
    ")\n",
    "exp31_df.to_csv(os.path.join('..', res_dir, f'{exp31}.csv'))"
   ],
   "metadata": {
    "collapsed": false,
    "ExecuteTime": {
     "end_time": "2024-05-10T22:38:42.555417Z",
     "start_time": "2024-05-10T22:36:35.864250Z"
    }
   },
   "id": "9f4c14cf11c9d1b6",
   "execution_count": 14
  },
  {
   "cell_type": "markdown",
   "source": [],
   "metadata": {
    "collapsed": false
   },
   "id": "8f3d83a7f2d0412"
  },
  {
   "cell_type": "code",
   "outputs": [
    {
     "name": "stderr",
     "output_type": "stream",
     "text": [
      "Veryfing multiple users: 100%|██████████| 8/8 [02:13<00:00, 16.64s/it]\n"
     ]
    }
   ],
   "source": [
    "exp32_df = voice_recognition_system_brute_force.verify_multiple_users(\n",
    "    incoming_users_path=os.path.join(data_directory, exp32),\n",
    ")\n",
    "exp32_df.to_csv(os.path.join('..', res_dir, f'{exp32}.csv'))"
   ],
   "metadata": {
    "collapsed": false,
    "ExecuteTime": {
     "end_time": "2024-05-10T22:40:55.679122Z",
     "start_time": "2024-05-10T22:38:42.557281Z"
    }
   },
   "id": "35ee0e4b6fa49a27",
   "execution_count": 15
  },
  {
   "cell_type": "code",
   "outputs": [
    {
     "name": "stderr",
     "output_type": "stream",
     "text": [
      "Veryfing multiple users: 100%|██████████| 8/8 [02:16<00:00, 17.10s/it]\n"
     ]
    }
   ],
   "source": [
    "exp33_df = voice_recognition_system_brute_force.verify_multiple_users(\n",
    "    incoming_users_path=os.path.join(data_directory, exp33),\n",
    ")\n",
    "exp33_df.to_csv(os.path.join('..', res_dir, f'{exp33}.csv'))"
   ],
   "metadata": {
    "collapsed": false,
    "ExecuteTime": {
     "end_time": "2024-05-10T22:43:12.449641Z",
     "start_time": "2024-05-10T22:40:55.677881Z"
    }
   },
   "id": "7622f44986a38ad8",
   "execution_count": 16
  },
  {
   "cell_type": "markdown",
   "source": [
    "# Exp4 - noise add"
   ],
   "metadata": {
    "collapsed": false
   },
   "id": "2bbfd4344df7ec3f"
  },
  {
   "cell_type": "code",
   "outputs": [],
   "source": [
    "exp4_dir = 'exp4'"
   ],
   "metadata": {
    "collapsed": false,
    "ExecuteTime": {
     "end_time": "2024-05-10T22:43:12.457329Z",
     "start_time": "2024-05-10T22:43:12.452370Z"
    }
   },
   "id": "aa8e8d164313d3c1",
   "execution_count": 17
  },
  {
   "cell_type": "code",
   "outputs": [
    {
     "name": "stderr",
     "output_type": "stream",
     "text": [
      "                                                             6.58it/s]\r"
     ]
    }
   ],
   "source": [
    "exp41, exp42, exp43 = prep_exp.prep_exp4(exp4_dir)"
   ],
   "metadata": {
    "collapsed": false,
    "ExecuteTime": {
     "end_time": "2024-05-10T22:43:13.657456Z",
     "start_time": "2024-05-10T22:43:12.455759Z"
    }
   },
   "id": "1f35c998448be381",
   "execution_count": 18
  },
  {
   "cell_type": "code",
   "outputs": [
    {
     "name": "stderr",
     "output_type": "stream",
     "text": [
      "Veryfing multiple users: 100%|██████████| 8/8 [01:38<00:00, 12.35s/it]\n"
     ]
    }
   ],
   "source": [
    "exp41_df = voice_recognition_system_brute_force.verify_multiple_users(\n",
    "    incoming_users_path=os.path.join(data_directory, exp41),\n",
    ")\n",
    "exp41_df.to_csv(os.path.join('..', res_dir, f'{exp41}.csv'))"
   ],
   "metadata": {
    "collapsed": false,
    "ExecuteTime": {
     "end_time": "2024-05-10T22:44:52.496763Z",
     "start_time": "2024-05-10T22:43:13.656401Z"
    }
   },
   "id": "540f068b9d1006c8",
   "execution_count": 19
  },
  {
   "cell_type": "code",
   "outputs": [
    {
     "name": "stderr",
     "output_type": "stream",
     "text": [
      "Veryfing multiple users: 100%|██████████| 8/8 [01:30<00:00, 11.34s/it]\n"
     ]
    }
   ],
   "source": [
    "exp42_df = voice_recognition_system_brute_force.verify_multiple_users(\n",
    "    incoming_users_path=os.path.join(data_directory, exp42),\n",
    ")\n",
    "exp42_df.to_csv(os.path.join('..', res_dir, f'{exp42}.csv'))"
   ],
   "metadata": {
    "collapsed": false,
    "ExecuteTime": {
     "end_time": "2024-05-10T22:46:23.246568Z",
     "start_time": "2024-05-10T22:44:52.498761Z"
    }
   },
   "id": "4787065f56b1bf4c",
   "execution_count": 20
  },
  {
   "cell_type": "code",
   "outputs": [
    {
     "name": "stderr",
     "output_type": "stream",
     "text": [
      "Veryfing multiple users: 100%|██████████| 8/8 [01:34<00:00, 11.82s/it]\n"
     ]
    }
   ],
   "source": [
    "exp43_df = voice_recognition_system_brute_force.verify_multiple_users(\n",
    "    incoming_users_path=os.path.join(data_directory, exp43),\n",
    ")\n",
    "exp43_df.to_csv(os.path.join('..', res_dir, f'{exp43}.csv'))"
   ],
   "metadata": {
    "collapsed": false,
    "ExecuteTime": {
     "end_time": "2024-05-10T22:47:57.856731Z",
     "start_time": "2024-05-10T22:46:23.249261Z"
    }
   },
   "id": "c74ea6989a48c291",
   "execution_count": 21
  },
  {
   "cell_type": "markdown",
   "source": [
    "# Exp5 - irregular noise addition"
   ],
   "metadata": {
    "collapsed": false
   },
   "id": "3ce5fa78797afc13"
  },
  {
   "cell_type": "code",
   "outputs": [],
   "source": [
    "exp5_dir = 'exp5'"
   ],
   "metadata": {
    "collapsed": false,
    "ExecuteTime": {
     "end_time": "2024-05-10T22:47:57.862457Z",
     "start_time": "2024-05-10T22:47:57.857565Z"
    }
   },
   "id": "6cea7efacece8394",
   "execution_count": 22
  },
  {
   "cell_type": "code",
   "outputs": [],
   "source": [
    "prep_exp.prep_exp5(exp5_dir)"
   ],
   "metadata": {
    "collapsed": false,
    "ExecuteTime": {
     "end_time": "2024-05-10T22:51:24.918747Z",
     "start_time": "2024-05-10T22:51:24.598352Z"
    }
   },
   "id": "8e5106b30eaca6f",
   "execution_count": 24
  },
  {
   "cell_type": "code",
   "outputs": [
    {
     "name": "stderr",
     "output_type": "stream",
     "text": [
      "Veryfing multiple users: 100%|██████████| 8/8 [02:21<00:00, 17.63s/it]\n"
     ]
    }
   ],
   "source": [
    "exp5_df = voice_recognition_system_brute_force.verify_multiple_users(\n",
    "    incoming_users_path=os.path.join(data_directory, exp5_dir),\n",
    ")\n",
    "exp5_df.to_csv(os.path.join('..', res_dir, f'{exp5_dir}.csv'))"
   ],
   "metadata": {
    "collapsed": false,
    "ExecuteTime": {
     "end_time": "2024-05-10T22:53:51.516716Z",
     "start_time": "2024-05-10T22:51:30.484099Z"
    }
   },
   "id": "6df44b51f8d01794",
   "execution_count": 25
  },
  {
   "cell_type": "code",
   "outputs": [],
   "source": [],
   "metadata": {
    "collapsed": false
   },
   "id": "6bb3566e3c82d9cb"
  }
 ],
 "metadata": {
  "kernelspec": {
   "display_name": "Python 3",
   "language": "python",
   "name": "python3"
  },
  "language_info": {
   "codemirror_mode": {
    "name": "ipython",
    "version": 2
   },
   "file_extension": ".py",
   "mimetype": "text/x-python",
   "name": "python",
   "nbconvert_exporter": "python",
   "pygments_lexer": "ipython2",
   "version": "2.7.6"
  }
 },
 "nbformat": 4,
 "nbformat_minor": 5
}
