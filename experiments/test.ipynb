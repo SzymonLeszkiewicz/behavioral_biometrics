{
 "cells": [
  {
   "cell_type": "code",
   "execution_count": 1,
   "id": "initial_id",
   "metadata": {
    "collapsed": true,
    "ExecuteTime": {
     "end_time": "2024-05-12T09:28:01.518438Z",
     "start_time": "2024-05-12T09:27:59.513460Z"
    }
   },
   "outputs": [
    {
     "name": "stderr",
     "output_type": "stream",
     "text": [
      "/Users/szymonleszkiewicz/anaconda3/envs/bio2/lib/python3.10/site-packages/tqdm/auto.py:21: TqdmWarning: IProgress not found. Please update jupyter and ipywidgets. See https://ipywidgets.readthedocs.io/en/stable/user_install.html\n",
      "  from .autonotebook import tqdm as notebook_tqdm\n"
     ]
    }
   ],
   "source": [
    "import os\n",
    "from experiments import prep_exp\n",
    "from scripts.signal_manipulation import *\n",
    "from scripts.voice_recognition_system import VoiceRecognitionSystem\n",
    "import json"
   ]
  },
  {
   "cell_type": "code",
   "outputs": [],
   "source": [
    "# make results directory\n",
    "res_dir = 'results'\n",
    "if not os.path.exists(os.path.join('..',res_dir)):\n",
    "    os.makedirs(os.path.join('..',res_dir))"
   ],
   "metadata": {
    "collapsed": false,
    "ExecuteTime": {
     "end_time": "2024-05-12T09:28:01.533739Z",
     "start_time": "2024-05-12T09:28:01.519899Z"
    }
   },
   "id": "7359d9f70233350",
   "execution_count": 2
  },
  {
   "cell_type": "code",
   "outputs": [],
   "source": [
    "parent_directory = os.path.abspath(os.path.join(os.getcwd(), os.pardir))\n",
    "data_directory = os.path.join(parent_directory, \"data\")"
   ],
   "metadata": {
    "collapsed": false,
    "ExecuteTime": {
     "end_time": "2024-05-12T09:28:01.535372Z",
     "start_time": "2024-05-12T09:28:01.522745Z"
    }
   },
   "id": "84e158cdd38aeefa",
   "execution_count": 3
  },
  {
   "cell_type": "code",
   "outputs": [],
   "source": [
    "database_path = os.path.join(data_directory, \"database\")\n",
    "\n",
    "incoming_authorized_users_path = os.path.join(\n",
    "    data_directory, \"database\", \"incoming_users\", \"authorized_users\"\n",
    ")\n",
    "incoming_unauthorized_users_path = os.path.join(\n",
    "    data_directory, \"database\", \"incoming_users\", \"unauthorized_users\"\n",
    ")"
   ],
   "metadata": {
    "collapsed": false,
    "ExecuteTime": {
     "end_time": "2024-05-12T09:28:01.538043Z",
     "start_time": "2024-05-12T09:28:01.533627Z"
    }
   },
   "id": "d9c2e5e33193fa76",
   "execution_count": 4
  },
  {
   "cell_type": "code",
   "outputs": [
    {
     "name": "stderr",
     "output_type": "stream",
     "text": [
      "WARNING:root:unexpected tensor: projection.weight\n",
      "Initializing database: 100%|██████████| 9/9 [00:09<00:00,  1.05s/it]\n",
      "WARNING:root:unexpected tensor: projection.weight\n",
      "Initializing database: 100%|██████████| 9/9 [00:10<00:00,  1.17s/it]\n"
     ]
    }
   ],
   "source": [
    "voice_recognition_system = VoiceRecognitionSystem(database_path)\n",
    "voice_recognition_system_brute_force = VoiceRecognitionSystem(\n",
    "    database_path, allow_brute_force=True\n",
    ")"
   ],
   "metadata": {
    "collapsed": false,
    "ExecuteTime": {
     "end_time": "2024-05-12T09:28:22.153153Z",
     "start_time": "2024-05-12T09:28:01.535647Z"
    }
   },
   "id": "867fc3797ca5fd84",
   "execution_count": 5
  },
  {
   "cell_type": "markdown",
   "source": [
    "# Exp1 - min 500 samples of authorized users"
   ],
   "metadata": {
    "collapsed": false
   },
   "id": "dd37dc18c7beb021"
  },
  {
   "cell_type": "code",
   "outputs": [],
   "source": [
    "exp1_dir = 'exp1'\n",
    "test_size = 5\n",
    "prep_exp.prep_exp1(exp1_dir, test_size)"
   ],
   "metadata": {
    "collapsed": false,
    "ExecuteTime": {
     "end_time": "2024-05-12T09:28:22.183815Z",
     "start_time": "2024-05-12T09:28:22.152633Z"
    }
   },
   "id": "e704e3f8cfb8cfb",
   "execution_count": 6
  },
  {
   "cell_type": "code",
   "outputs": [
    {
     "name": "stderr",
     "output_type": "stream",
     "text": [
      "Veryfing multiple users: 100%|██████████| 4/4 [00:05<00:00,  1.38s/it]\n"
     ]
    }
   ],
   "source": [
    "exp1_df = voice_recognition_system_brute_force.verify_multiple_users(\n",
    "    incoming_users_path=os.path.join(data_directory, exp1_dir),\n",
    ")\n",
    "exp1_df.to_csv(os.path.join('..', res_dir, f'{exp1_dir}.csv'))"
   ],
   "metadata": {
    "collapsed": false,
    "ExecuteTime": {
     "end_time": "2024-05-12T09:28:27.705915Z",
     "start_time": "2024-05-12T09:28:22.178398Z"
    }
   },
   "id": "76c17beb1b3a10df",
   "execution_count": 7
  },
  {
   "cell_type": "code",
   "outputs": [
    {
     "data": {
      "text/plain": "                                          audio_path is_access_granted  \\\n0  /Users/szymonleszkiewicz/Desktop/pyProjects/be...             False   \n1  /Users/szymonleszkiewicz/Desktop/pyProjects/be...             False   \n2  /Users/szymonleszkiewicz/Desktop/pyProjects/be...             False   \n3  /Users/szymonleszkiewicz/Desktop/pyProjects/be...             False   \n4  /Users/szymonleszkiewicz/Desktop/pyProjects/be...             False   \n\n   confidence  \n0    0.833629  \n1    0.801910  \n2    0.856643  \n3    0.861669  \n4    0.846249  ",
      "text/html": "<div>\n<style scoped>\n    .dataframe tbody tr th:only-of-type {\n        vertical-align: middle;\n    }\n\n    .dataframe tbody tr th {\n        vertical-align: top;\n    }\n\n    .dataframe thead th {\n        text-align: right;\n    }\n</style>\n<table border=\"1\" class=\"dataframe\">\n  <thead>\n    <tr style=\"text-align: right;\">\n      <th></th>\n      <th>audio_path</th>\n      <th>is_access_granted</th>\n      <th>confidence</th>\n    </tr>\n  </thead>\n  <tbody>\n    <tr>\n      <th>0</th>\n      <td>/Users/szymonleszkiewicz/Desktop/pyProjects/be...</td>\n      <td>False</td>\n      <td>0.833629</td>\n    </tr>\n    <tr>\n      <th>1</th>\n      <td>/Users/szymonleszkiewicz/Desktop/pyProjects/be...</td>\n      <td>False</td>\n      <td>0.801910</td>\n    </tr>\n    <tr>\n      <th>2</th>\n      <td>/Users/szymonleszkiewicz/Desktop/pyProjects/be...</td>\n      <td>False</td>\n      <td>0.856643</td>\n    </tr>\n    <tr>\n      <th>3</th>\n      <td>/Users/szymonleszkiewicz/Desktop/pyProjects/be...</td>\n      <td>False</td>\n      <td>0.861669</td>\n    </tr>\n    <tr>\n      <th>4</th>\n      <td>/Users/szymonleszkiewicz/Desktop/pyProjects/be...</td>\n      <td>False</td>\n      <td>0.846249</td>\n    </tr>\n  </tbody>\n</table>\n</div>"
     },
     "execution_count": 8,
     "metadata": {},
     "output_type": "execute_result"
    }
   ],
   "source": [
    "exp1_df.head()"
   ],
   "metadata": {
    "collapsed": false,
    "ExecuteTime": {
     "end_time": "2024-05-12T09:28:27.718847Z",
     "start_time": "2024-05-12T09:28:27.709086Z"
    }
   },
   "id": "7433b46e6cd0477f",
   "execution_count": 8
  },
  {
   "cell_type": "markdown",
   "source": [
    "# Exp2 - random amplitude multiply"
   ],
   "metadata": {
    "collapsed": false
   },
   "id": "eee1ac7748df3dcf"
  },
  {
   "cell_type": "code",
   "outputs": [
    {
     "name": "stderr",
     "output_type": "stream",
     "text": [
      "                                                     ?, ?it/s]\r"
     ]
    }
   ],
   "source": [
    "exp2_dir = 'exp2'\n",
    "prep_exp.prep_exp2(exp1_dir, exp2_dir, test_size)"
   ],
   "metadata": {
    "collapsed": false,
    "ExecuteTime": {
     "end_time": "2024-05-12T09:28:28.944828Z",
     "start_time": "2024-05-12T09:28:27.716487Z"
    }
   },
   "id": "4f55487b6ea29973",
   "execution_count": 9
  },
  {
   "cell_type": "code",
   "outputs": [
    {
     "name": "stderr",
     "output_type": "stream",
     "text": [
      "Veryfing multiple users: 100%|██████████| 6/6 [00:14<00:00,  2.42s/it]\n"
     ]
    }
   ],
   "source": [
    "exp2_df = voice_recognition_system_brute_force.verify_multiple_users(\n",
    "    incoming_users_path=os.path.join(data_directory, exp2_dir),\n",
    ")\n",
    "exp2_df.to_csv(os.path.join('..', res_dir, f'{exp2_dir}.csv'))"
   ],
   "metadata": {
    "collapsed": false,
    "ExecuteTime": {
     "end_time": "2024-05-12T09:28:42.312531Z",
     "start_time": "2024-05-12T09:28:27.752811Z"
    }
   },
   "id": "a45d203b4b0c7437",
   "execution_count": 10
  },
  {
   "cell_type": "code",
   "outputs": [
    {
     "data": {
      "text/plain": "                                          audio_path is_access_granted  \\\n0  /Users/szymonleszkiewicz/Desktop/pyProjects/be...             False   \n1  /Users/szymonleszkiewicz/Desktop/pyProjects/be...             False   \n2  /Users/szymonleszkiewicz/Desktop/pyProjects/be...             False   \n3  /Users/szymonleszkiewicz/Desktop/pyProjects/be...             False   \n4  /Users/szymonleszkiewicz/Desktop/pyProjects/be...             False   \n\n   confidence  \n0    0.827424  \n1    0.801910  \n2    0.856643  \n3    0.861669  \n4    0.853910  ",
      "text/html": "<div>\n<style scoped>\n    .dataframe tbody tr th:only-of-type {\n        vertical-align: middle;\n    }\n\n    .dataframe tbody tr th {\n        vertical-align: top;\n    }\n\n    .dataframe thead th {\n        text-align: right;\n    }\n</style>\n<table border=\"1\" class=\"dataframe\">\n  <thead>\n    <tr style=\"text-align: right;\">\n      <th></th>\n      <th>audio_path</th>\n      <th>is_access_granted</th>\n      <th>confidence</th>\n    </tr>\n  </thead>\n  <tbody>\n    <tr>\n      <th>0</th>\n      <td>/Users/szymonleszkiewicz/Desktop/pyProjects/be...</td>\n      <td>False</td>\n      <td>0.827424</td>\n    </tr>\n    <tr>\n      <th>1</th>\n      <td>/Users/szymonleszkiewicz/Desktop/pyProjects/be...</td>\n      <td>False</td>\n      <td>0.801910</td>\n    </tr>\n    <tr>\n      <th>2</th>\n      <td>/Users/szymonleszkiewicz/Desktop/pyProjects/be...</td>\n      <td>False</td>\n      <td>0.856643</td>\n    </tr>\n    <tr>\n      <th>3</th>\n      <td>/Users/szymonleszkiewicz/Desktop/pyProjects/be...</td>\n      <td>False</td>\n      <td>0.861669</td>\n    </tr>\n    <tr>\n      <th>4</th>\n      <td>/Users/szymonleszkiewicz/Desktop/pyProjects/be...</td>\n      <td>False</td>\n      <td>0.853910</td>\n    </tr>\n  </tbody>\n</table>\n</div>"
     },
     "execution_count": 11,
     "metadata": {},
     "output_type": "execute_result"
    }
   ],
   "source": [
    "exp2_df.head()"
   ],
   "metadata": {
    "collapsed": false,
    "ExecuteTime": {
     "end_time": "2024-05-12T09:28:42.316052Z",
     "start_time": "2024-05-12T09:28:42.312531Z"
    }
   },
   "id": "55a3698f5a7fc66c",
   "execution_count": 11
  },
  {
   "cell_type": "markdown",
   "source": [
    "# Exp3 - random amplitude add"
   ],
   "metadata": {
    "collapsed": false
   },
   "id": "bc54a2ac29fdba01"
  },
  {
   "cell_type": "code",
   "outputs": [],
   "source": [
    "exp3_dir = 'exp3'"
   ],
   "metadata": {
    "collapsed": false,
    "ExecuteTime": {
     "end_time": "2024-05-12T09:28:42.317300Z",
     "start_time": "2024-05-12T09:28:42.315596Z"
    }
   },
   "id": "ca972181b9601abd",
   "execution_count": 12
  },
  {
   "cell_type": "code",
   "outputs": [
    {
     "name": "stderr",
     "output_type": "stream",
     "text": [
      "                                                             7.66it/s]"
     ]
    },
    {
     "name": "stdout",
     "output_type": "stream",
     "text": [
      "../data/exp3_sr_0.5 ../data/exp3_sr_0.2 ../data/exp3_sr_0.1\n"
     ]
    },
    {
     "name": "stderr",
     "output_type": "stream",
     "text": [
      "\r"
     ]
    }
   ],
   "source": [
    "exp31, exp32, exp33 = prep_exp.prep_exp3(exp3_dir)\n",
    "print(exp31, exp32, exp33)"
   ],
   "metadata": {
    "collapsed": false,
    "ExecuteTime": {
     "end_time": "2024-05-12T09:28:43.928224Z",
     "start_time": "2024-05-12T09:28:42.318056Z"
    }
   },
   "id": "8c5472ad74862a14",
   "execution_count": 13
  },
  {
   "cell_type": "code",
   "outputs": [
    {
     "name": "stderr",
     "output_type": "stream",
     "text": [
      "Veryfing multiple users:  50%|█████     | 4/8 [00:53<00:50, 12.61s/it]"
     ]
    }
   ],
   "source": [
    "exp31_df = voice_recognition_system_brute_force.verify_multiple_users(\n",
    "    incoming_users_path=os.path.join(data_directory, exp31),\n",
    ")\n",
    "exp31 = exp31.split('/')[-1]\n",
    "exp31_df.to_csv(os.path.join('..', res_dir, f'{exp31}.csv'))"
   ],
   "metadata": {
    "collapsed": false,
    "is_executing": true,
    "ExecuteTime": {
     "start_time": "2024-05-12T09:28:43.932647Z"
    }
   },
   "id": "9f4c14cf11c9d1b6",
   "execution_count": null
  },
  {
   "cell_type": "markdown",
   "source": [],
   "metadata": {
    "collapsed": false
   },
   "id": "8f3d83a7f2d0412"
  },
  {
   "cell_type": "code",
   "outputs": [],
   "source": [
    "exp32_df = voice_recognition_system_brute_force.verify_multiple_users(\n",
    "    incoming_users_path=os.path.join(data_directory, exp32),\n",
    ")\n",
    "exp32 = exp32.split('/')[-1]\n",
    "exp32_df.to_csv(os.path.join('..', res_dir, f'{exp32}.csv'))"
   ],
   "metadata": {
    "collapsed": false,
    "is_executing": true
   },
   "id": "35ee0e4b6fa49a27",
   "execution_count": null
  },
  {
   "cell_type": "code",
   "outputs": [],
   "source": [
    "exp33_df = voice_recognition_system_brute_force.verify_multiple_users(\n",
    "    incoming_users_path=os.path.join(data_directory, exp33),\n",
    ")\n",
    "exp33 = exp33.split('/')[-1]\n",
    "exp33_df.to_csv(os.path.join('..', res_dir, f'{exp33}.csv'))"
   ],
   "metadata": {
    "collapsed": false,
    "is_executing": true
   },
   "id": "7622f44986a38ad8",
   "execution_count": null
  },
  {
   "cell_type": "markdown",
   "source": [
    "# Exp4 - noise add"
   ],
   "metadata": {
    "collapsed": false
   },
   "id": "2bbfd4344df7ec3f"
  },
  {
   "cell_type": "code",
   "outputs": [],
   "source": [
    "exp4_dir = 'exp4'"
   ],
   "metadata": {
    "collapsed": false,
    "is_executing": true
   },
   "id": "aa8e8d164313d3c1",
   "execution_count": null
  },
  {
   "cell_type": "code",
   "outputs": [],
   "source": [
    "exp41, exp42, exp43 = prep_exp.prep_exp4(exp4_dir)\n",
    "print(exp41, exp42, exp43)"
   ],
   "metadata": {
    "collapsed": false,
    "is_executing": true
   },
   "id": "1f35c998448be381",
   "execution_count": null
  },
  {
   "cell_type": "code",
   "outputs": [],
   "source": [
    "exp41_df = voice_recognition_system_brute_force.verify_multiple_users(\n",
    "    incoming_users_path=os.path.join(data_directory, exp41),\n",
    ")\n",
    "exp41 = exp41.split('/')[-1]\n",
    "exp41_df.to_csv(os.path.join('..', res_dir, f'{exp41}.csv'))"
   ],
   "metadata": {
    "collapsed": false,
    "is_executing": true
   },
   "id": "540f068b9d1006c8",
   "execution_count": null
  },
  {
   "cell_type": "code",
   "outputs": [],
   "source": [
    "exp42_df = voice_recognition_system_brute_force.verify_multiple_users(\n",
    "    incoming_users_path=os.path.join(data_directory, exp42),\n",
    ")\n",
    "exp42 = exp42.split('/')[-1]\n",
    "exp42_df.to_csv(os.path.join('..', res_dir, f'{exp42}.csv'))"
   ],
   "metadata": {
    "collapsed": false,
    "is_executing": true
   },
   "id": "4787065f56b1bf4c",
   "execution_count": null
  },
  {
   "cell_type": "code",
   "outputs": [],
   "source": [
    "exp43_df = voice_recognition_system_brute_force.verify_multiple_users(\n",
    "    incoming_users_path=os.path.join(data_directory, exp43),\n",
    ")\n",
    "exp43 = exp43.split('/')[-1]\n",
    "exp43_df.to_csv(os.path.join('..', res_dir, f'{exp43}.csv'))"
   ],
   "metadata": {
    "collapsed": false,
    "is_executing": true
   },
   "id": "c74ea6989a48c291",
   "execution_count": null
  },
  {
   "cell_type": "markdown",
   "source": [
    "# Exp5 - irregular noise addition"
   ],
   "metadata": {
    "collapsed": false
   },
   "id": "3ce5fa78797afc13"
  },
  {
   "cell_type": "code",
   "outputs": [],
   "source": [
    "exp5_dir = 'exp5'"
   ],
   "metadata": {
    "collapsed": false,
    "is_executing": true
   },
   "id": "6cea7efacece8394",
   "execution_count": null
  },
  {
   "cell_type": "code",
   "outputs": [],
   "source": [
    "prep_exp.prep_exp5(exp5_dir)"
   ],
   "metadata": {
    "collapsed": false,
    "is_executing": true
   },
   "id": "8e5106b30eaca6f",
   "execution_count": null
  },
  {
   "cell_type": "code",
   "outputs": [],
   "source": [
    "exp5_df = voice_recognition_system_brute_force.verify_multiple_users(\n",
    "    incoming_users_path=os.path.join(data_directory, exp5_dir),\n",
    ")\n",
    "exp5_df.to_csv(os.path.join('..', res_dir, f'{exp5_dir}.csv'))"
   ],
   "metadata": {
    "collapsed": false,
    "is_executing": true
   },
   "id": "6df44b51f8d01794",
   "execution_count": null
  },
  {
   "cell_type": "code",
   "outputs": [],
   "source": [],
   "metadata": {
    "collapsed": false,
    "is_executing": true
   },
   "id": "6bb3566e3c82d9cb",
   "execution_count": null
  }
 ],
 "metadata": {
  "kernelspec": {
   "display_name": "Python 3",
   "language": "python",
   "name": "python3"
  },
  "language_info": {
   "codemirror_mode": {
    "name": "ipython",
    "version": 2
   },
   "file_extension": ".py",
   "mimetype": "text/x-python",
   "name": "python",
   "nbconvert_exporter": "python",
   "pygments_lexer": "ipython2",
   "version": "2.7.6"
  }
 },
 "nbformat": 4,
 "nbformat_minor": 5
}
