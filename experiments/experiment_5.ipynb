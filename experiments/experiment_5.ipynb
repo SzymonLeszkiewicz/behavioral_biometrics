{
 "cells": [
  {
   "metadata": {},
   "cell_type": "markdown",
   "source": [
    "Utwórz lub pobierz plik z nieregularnymi zakłóceniami (np. odgłosy psów), zmniejsz\n",
    "jego amplitudę, tak by maksymalna amplituda zakłóceń była połową maksymalnej amplitudy oryginalnego sygnału, a następnie dodaj zakłócenia do próbek 100\n",
    "próbek. Przetestuj system uwierzytelniania na tak zakłóconych próbkach."
   ],
   "id": "f0566cabd72f50da"
  },
  {
   "metadata": {},
   "cell_type": "markdown",
   "source": "# Imports",
   "id": "713572dc09536109"
  },
  {
   "metadata": {
    "ExecuteTime": {
     "end_time": "2024-05-12T19:40:15.781839Z",
     "start_time": "2024-05-12T19:40:12.087975Z"
    }
   },
   "cell_type": "code",
   "source": [
    "import json\n",
    "import os\n",
    "\n",
    "import numpy as np\n",
    "\n",
    "from experiments.prepare_experiments import prepare_experiment_5\n",
    "from scripts.voice_recognition_system import VoiceRecognitionSystem"
   ],
   "id": "96bcdc60fc19bbdd",
   "outputs": [
    {
     "name": "stderr",
     "output_type": "stream",
     "text": [
      "C:\\Virtual_Environments\\venv_BIO_3.12\\Lib\\site-packages\\tqdm\\auto.py:21: TqdmWarning: IProgress not found. Please update jupyter and ipywidgets. See https://ipywidgets.readthedocs.io/en/stable/user_install.html\n",
      "  from .autonotebook import tqdm as notebook_tqdm\n"
     ]
    }
   ],
   "execution_count": 1
  },
  {
   "metadata": {},
   "cell_type": "markdown",
   "source": "# Define File Paths",
   "id": "659394d89caecc85"
  },
  {
   "metadata": {
    "ExecuteTime": {
     "end_time": "2024-05-12T19:40:15.785047Z",
     "start_time": "2024-05-12T19:40:15.782842Z"
    }
   },
   "cell_type": "code",
   "source": [
    "parent_directory = os.path.abspath(os.path.join(os.getcwd(), os.pardir))\n",
    "data_directory = os.path.join(parent_directory, \"data\")\n",
    "\n",
    "database_path = os.path.join(data_directory, \"database\")\n",
    "\n",
    "incoming_authorized_users_path = os.path.join(\n",
    "    data_directory, \"database\", \"incoming_users\", \"authorized_users\"\n",
    ")\n",
    "incoming_unauthorized_users_path = os.path.join(\n",
    "    data_directory, \"database\", \"incoming_users\", \"unauthorized_users\"\n",
    ")"
   ],
   "id": "b15a75c84efdd5c",
   "outputs": [],
   "execution_count": 2
  },
  {
   "metadata": {
    "ExecuteTime": {
     "end_time": "2024-05-12T19:40:15.789575Z",
     "start_time": "2024-05-12T19:40:15.785047Z"
    }
   },
   "cell_type": "code",
   "source": [
    "experiment_name = \"experiment_5\"\n",
    "experiment_path = os.path.join(data_directory, experiment_name)\n",
    "\n",
    "experiment_authorized_path = os.path.join(experiment_path, \"authorized\")\n",
    "experiment_unauthorized_path = os.path.join(experiment_path, \"unauthorized\")"
   ],
   "id": "ae23da751e014cca",
   "outputs": [],
   "execution_count": 3
  },
  {
   "metadata": {
    "ExecuteTime": {
     "end_time": "2024-05-12T19:40:15.803634Z",
     "start_time": "2024-05-12T19:40:15.789575Z"
    }
   },
   "cell_type": "code",
   "source": [
    "results_path = os.path.join(parent_directory, \"results\", experiment_name)\n",
    "\n",
    "if not os.path.exists(results_path):\n",
    "    os.makedirs(results_path, exist_ok=True)"
   ],
   "id": "426ddee2f393b930",
   "outputs": [],
   "execution_count": 4
  },
  {
   "metadata": {
    "ExecuteTime": {
     "end_time": "2024-05-12T19:40:15.806483Z",
     "start_time": "2024-05-12T19:40:15.804638Z"
    }
   },
   "cell_type": "code",
   "source": "irregular_noise_path = os.path.join(data_directory, \"electric-saw-aka-pandemia.wav\")",
   "id": "e0b20a836ea9690f",
   "outputs": [],
   "execution_count": 5
  },
  {
   "metadata": {},
   "cell_type": "markdown",
   "source": "# Initialize System",
   "id": "9a549b24270bea1f"
  },
  {
   "metadata": {
    "ExecuteTime": {
     "end_time": "2024-05-12T19:40:36.632639Z",
     "start_time": "2024-05-12T19:40:15.806483Z"
    }
   },
   "cell_type": "code",
   "source": [
    "voice_recognition_system = VoiceRecognitionSystem(\n",
    "    database_path, acceptance_threshold=0.7, allow_brute_force=False\n",
    ")"
   ],
   "id": "24af4f0aca74d76d",
   "outputs": [
    {
     "name": "stderr",
     "output_type": "stream",
     "text": [
      "WARNING:root:unexpected tensor: projection.weight\n",
      "Initializing database: 100%|██████████| 100/100 [00:20<00:00,  4.93it/s]\n"
     ]
    }
   ],
   "execution_count": 6
  },
  {
   "metadata": {},
   "cell_type": "markdown",
   "source": "# Prepare Experiment",
   "id": "66179511a2c023fb"
  },
  {
   "metadata": {
    "ExecuteTime": {
     "end_time": "2024-05-12T19:40:39.697418Z",
     "start_time": "2024-05-12T19:40:36.632639Z"
    }
   },
   "cell_type": "code",
   "source": [
    "prepare_experiment_5(\n",
    "    experiment_path,\n",
    "    incoming_authorized_users_path,\n",
    "    incoming_unauthorized_users_path,\n",
    "    100,\n",
    "    irregular_noise_path,\n",
    ")"
   ],
   "id": "c93ceb66d52b0b1a",
   "outputs": [],
   "execution_count": 7
  },
  {
   "metadata": {},
   "cell_type": "markdown",
   "source": "# Conduct Experiment",
   "id": "9b6d14a452527d38"
  },
  {
   "metadata": {},
   "cell_type": "markdown",
   "source": "### Without brute force",
   "id": "c1f0fa990ef87ce7"
  },
  {
   "metadata": {
    "ExecuteTime": {
     "end_time": "2024-05-12T19:40:52.754673Z",
     "start_time": "2024-05-12T19:40:39.697418Z"
    }
   },
   "cell_type": "code",
   "source": [
    "df_authorized_users = voice_recognition_system.verify_multiple_users(\n",
    "    incoming_users_path=experiment_authorized_path,\n",
    ")"
   ],
   "id": "68b79596658f3702",
   "outputs": [
    {
     "name": "stderr",
     "output_type": "stream",
     "text": [
      "Veryfing multiple users: 100%|██████████| 40/40 [00:13<00:00,  3.06it/s]\n"
     ]
    }
   ],
   "execution_count": 8
  },
  {
   "metadata": {
    "ExecuteTime": {
     "end_time": "2024-05-12T19:41:03.355360Z",
     "start_time": "2024-05-12T19:40:52.755676Z"
    }
   },
   "cell_type": "code",
   "source": [
    "df_unauthorized_users = voice_recognition_system.verify_multiple_users(\n",
    "    incoming_users_path=experiment_unauthorized_path,\n",
    ")"
   ],
   "id": "2a21ee79b30dde6b",
   "outputs": [
    {
     "name": "stderr",
     "output_type": "stream",
     "text": [
      "Veryfing multiple users: 100%|██████████| 41/41 [00:10<00:00,  3.87it/s]\n"
     ]
    }
   ],
   "execution_count": 9
  },
  {
   "metadata": {},
   "cell_type": "markdown",
   "source": "### With brute force",
   "id": "8ab6f45c511c8013"
  },
  {
   "metadata": {
    "ExecuteTime": {
     "end_time": "2024-05-12T19:41:03.358363Z",
     "start_time": "2024-05-12T19:41:03.355360Z"
    }
   },
   "cell_type": "code",
   "source": "voice_recognition_system.allow_brute_force = True",
   "id": "5557c0e48ced5103",
   "outputs": [],
   "execution_count": 10
  },
  {
   "metadata": {
    "ExecuteTime": {
     "end_time": "2024-05-12T19:41:06.965013Z",
     "start_time": "2024-05-12T19:41:03.358866Z"
    }
   },
   "cell_type": "code",
   "source": [
    "df_unauthorized_users_brute_force = voice_recognition_system.verify_multiple_users(\n",
    "    incoming_users_path=experiment_unauthorized_path\n",
    ")"
   ],
   "id": "fd57f236191511ee",
   "outputs": [
    {
     "name": "stderr",
     "output_type": "stream",
     "text": [
      "Veryfing multiple users: 100%|██████████| 41/41 [00:03<00:00, 11.39it/s]\n"
     ]
    }
   ],
   "execution_count": 11
  },
  {
   "metadata": {},
   "cell_type": "markdown",
   "source": "# Calculating metrics",
   "id": "62896af3a8aa5191"
  },
  {
   "metadata": {
    "ExecuteTime": {
     "end_time": "2024-05-12T19:41:06.968531Z",
     "start_time": "2024-05-12T19:41:06.965013Z"
    }
   },
   "cell_type": "code",
   "source": [
    "configurations = {\n",
    "    \"default\": (df_authorized_users, df_unauthorized_users),\n",
    "    \"brute_force\": (\n",
    "        df_authorized_users,\n",
    "        df_unauthorized_users_brute_force,\n",
    "    ),\n",
    "}"
   ],
   "id": "4761125a6a30c158",
   "outputs": [],
   "execution_count": 12
  },
  {
   "metadata": {
    "ExecuteTime": {
     "end_time": "2024-05-12T19:41:07.340559Z",
     "start_time": "2024-05-12T19:41:06.969534Z"
    }
   },
   "cell_type": "code",
   "source": [
    "for configuration_name in configurations.keys():\n",
    "    df_authorized_users, df_unauthorized_users = configurations[configuration_name]\n",
    "\n",
    "    false_acceptance_rate, false_rejection_rate = (\n",
    "        voice_recognition_system.calculate_far_frr(\n",
    "            df_authorized_users, df_unauthorized_users\n",
    "        )\n",
    "    )\n",
    "    true_negative, false_positive, false_negative, true_positive = (\n",
    "        voice_recognition_system.calculate_ROC_curve(\n",
    "            df_authorized_users,\n",
    "            df_unauthorized_users,\n",
    "            roc_curve_path=os.path.join(\n",
    "                results_path, f\"ROC_curve_{configuration_name}.png\"\n",
    "            ),\n",
    "        )\n",
    "    )\n",
    "    accuracy = (true_positive + true_negative) / (\n",
    "        true_positive + true_negative + false_positive + false_negative\n",
    "    )\n",
    "    access_granted_rate = voice_recognition_system.calculate_access_granted_rate(\n",
    "        df_authorized_users\n",
    "    )\n",
    "    results_dict = {\n",
    "        \"FAR\": np.round(false_acceptance_rate, 3),\n",
    "        \"FRR\": np.round(false_rejection_rate, 3),\n",
    "        \"TN\": true_negative,\n",
    "        \"FP\": false_positive,\n",
    "        \"FN\": false_negative,\n",
    "        \"TP\": true_positive,\n",
    "        \"ACC\": np.round(accuracy, 3),\n",
    "        \"AGR\": np.round(access_granted_rate, 3),\n",
    "    }\n",
    "\n",
    "    # convert int64 values to native Python integers\n",
    "    for key, value in results_dict.items():\n",
    "        results_dict[key] = int(value) if isinstance(value, np.int64) else value\n",
    "\n",
    "    with open(\n",
    "        os.path.join(results_path, f\"results_{configuration_name}.json\"), \"w\"\n",
    "    ) as json_file:\n",
    "        json.dump(results_dict, json_file, indent=4)"
   ],
   "id": "df4d542d33169456",
   "outputs": [],
   "execution_count": 13
  }
 ],
 "metadata": {
  "kernelspec": {
   "display_name": "Python 3",
   "language": "python",
   "name": "python3"
  },
  "language_info": {
   "codemirror_mode": {
    "name": "ipython",
    "version": 2
   },
   "file_extension": ".py",
   "mimetype": "text/x-python",
   "name": "python",
   "nbconvert_exporter": "python",
   "pygments_lexer": "ipython2",
   "version": "2.7.6"
  }
 },
 "nbformat": 4,
 "nbformat_minor": 5
}
