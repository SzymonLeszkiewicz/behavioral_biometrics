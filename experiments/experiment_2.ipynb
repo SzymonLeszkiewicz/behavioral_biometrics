{
 "cells": [
  {
   "metadata": {},
   "cell_type": "markdown",
   "source": [
    "Dla podzbioru przynajmniej 500 próbek wykonaj losowo (z prawdopodobieństwem jednostajnym) przemnożenia amplitudy próbki przez wartość ze zbioru\n",
    "{25, 1, 0.04} a następnie porównaj skuteczność modelu z wynikami uzyskanymi\n",
    "w zadaniu 1."
   ],
   "id": "b0a08a53118cc00c"
  },
  {
   "metadata": {},
   "cell_type": "markdown",
   "source": "# Imports",
   "id": "ff61253d656c7db7"
  },
  {
   "metadata": {
    "ExecuteTime": {
     "end_time": "2024-05-12T15:20:13.205234Z",
     "start_time": "2024-05-12T15:20:11.330432Z"
    }
   },
   "cell_type": "code",
   "source": [
    "import json\n",
    "import os\n",
    "\n",
    "import numpy as np\n",
    "\n",
    "from experiments.prepare_experiments import prepare_experiment_2\n",
    "from scripts.voice_recognition_system import VoiceRecognitionSystem"
   ],
   "id": "8192f489f3fac753",
   "outputs": [
    {
     "name": "stderr",
     "output_type": "stream",
     "text": [
      "C:\\Virtual_Environments\\venv_BIO_3.12\\Lib\\site-packages\\tqdm\\auto.py:21: TqdmWarning: IProgress not found. Please update jupyter and ipywidgets. See https://ipywidgets.readthedocs.io/en/stable/user_install.html\n",
      "  from .autonotebook import tqdm as notebook_tqdm\n"
     ]
    }
   ],
   "execution_count": 1
  },
  {
   "metadata": {},
   "cell_type": "markdown",
   "source": "# Define File Paths",
   "id": "95adc5eb28c15058"
  },
  {
   "metadata": {
    "ExecuteTime": {
     "end_time": "2024-05-12T15:20:13.208743Z",
     "start_time": "2024-05-12T15:20:13.206238Z"
    }
   },
   "cell_type": "code",
   "source": [
    "parent_directory = os.path.abspath(os.path.join(os.getcwd(), os.pardir))\n",
    "data_directory = os.path.join(parent_directory, \"data\")\n",
    "\n",
    "database_path = os.path.join(data_directory, \"database\")\n",
    "\n",
    "incoming_authorized_users_path = os.path.join(\n",
    "    data_directory, \"database\", \"incoming_users\", \"authorized_users\"\n",
    ")\n",
    "incoming_unauthorized_users_path = os.path.join(\n",
    "    data_directory, \"database\", \"incoming_users\", \"unauthorized_users\"\n",
    ")"
   ],
   "id": "7516bb4862a9cf8f",
   "outputs": [],
   "execution_count": 2
  },
  {
   "metadata": {
    "ExecuteTime": {
     "end_time": "2024-05-12T15:20:13.212556Z",
     "start_time": "2024-05-12T15:20:13.208917Z"
    }
   },
   "cell_type": "code",
   "source": [
    "experiment_name = \"experiment_2\"\n",
    "experiment_path = os.path.join(data_directory, experiment_name)\n",
    "\n",
    "experiment_authorized_path = os.path.join(experiment_path, \"authorized\")\n",
    "experiment_unauthorized_path = os.path.join(experiment_path, \"unauthorized\")"
   ],
   "id": "154319d279a5be21",
   "outputs": [],
   "execution_count": 3
  },
  {
   "metadata": {
    "ExecuteTime": {
     "end_time": "2024-05-12T15:20:13.225887Z",
     "start_time": "2024-05-12T15:20:13.212556Z"
    }
   },
   "cell_type": "code",
   "source": [
    "results_path = os.path.join(parent_directory, \"results\", experiment_name)\n",
    "\n",
    "if not os.path.exists(results_path):\n",
    "    os.makedirs(results_path, exist_ok=True)"
   ],
   "id": "e6bdfe366277b3",
   "outputs": [],
   "execution_count": 4
  },
  {
   "metadata": {},
   "cell_type": "markdown",
   "source": "# Initialize System",
   "id": "f0296f6cb2408221"
  },
  {
   "metadata": {
    "ExecuteTime": {
     "end_time": "2024-05-12T15:20:33.903362Z",
     "start_time": "2024-05-12T15:20:13.226890Z"
    }
   },
   "cell_type": "code",
   "source": [
    "voice_recognition_system = VoiceRecognitionSystem(\n",
    "    database_path, acceptance_threshold=0.7, allow_brute_force=False\n",
    ")"
   ],
   "id": "a2d3f059d0da14ca",
   "outputs": [
    {
     "name": "stderr",
     "output_type": "stream",
     "text": [
      "WARNING:root:unexpected tensor: projection.weight\n",
      "Initializing database: 100%|██████████| 100/100 [00:20<00:00,  4.97it/s]\n"
     ]
    }
   ],
   "execution_count": 5
  },
  {
   "metadata": {},
   "cell_type": "markdown",
   "source": "# Prepare Experiment",
   "id": "5488573c1ed82951"
  },
  {
   "metadata": {
    "ExecuteTime": {
     "end_time": "2024-05-12T15:20:38.440600Z",
     "start_time": "2024-05-12T15:20:33.903362Z"
    }
   },
   "cell_type": "code",
   "source": [
    "prepare_experiment_2(\n",
    "    experiment_1_path=os.path.join(data_directory, \"experiment_1\"),\n",
    "    experiment_2_path=experiment_path,\n",
    "    authorized_users_path=incoming_authorized_users_path,\n",
    "    unauthorized_users_path=incoming_unauthorized_users_path,\n",
    "    number_of_users=500,\n",
    ")"
   ],
   "id": "a6011d92b019a516",
   "outputs": [
    {
     "name": "stderr",
     "output_type": "stream",
     "text": [
      "                                                               9.57it/s]\r"
     ]
    }
   ],
   "execution_count": 6
  },
  {
   "metadata": {},
   "cell_type": "markdown",
   "source": "# Conduct Experiment",
   "id": "6dd24ecec9416ed6"
  },
  {
   "metadata": {},
   "cell_type": "markdown",
   "source": "### Without brute force",
   "id": "c24ac92bdde2c224"
  },
  {
   "metadata": {
    "ExecuteTime": {
     "end_time": "2024-05-12T15:21:27.518498Z",
     "start_time": "2024-05-12T15:20:38.440600Z"
    }
   },
   "cell_type": "code",
   "source": [
    "df_authorized_users = voice_recognition_system.verify_multiple_users(\n",
    "    incoming_users_path=experiment_authorized_path,\n",
    ")"
   ],
   "id": "fa88dd49216e8768",
   "outputs": [
    {
     "name": "stderr",
     "output_type": "stream",
     "text": [
      "Veryfing multiple users: 100%|██████████| 50/50 [00:49<00:00,  1.02it/s]\n"
     ]
    }
   ],
   "execution_count": 7
  },
  {
   "metadata": {
    "ExecuteTime": {
     "end_time": "2024-05-12T15:21:57.340717Z",
     "start_time": "2024-05-12T15:21:27.518498Z"
    }
   },
   "cell_type": "code",
   "source": [
    "df_unauthorized_users = voice_recognition_system.verify_multiple_users(\n",
    "    incoming_users_path=experiment_unauthorized_path,\n",
    ")"
   ],
   "id": "c408b8b438f823d7",
   "outputs": [
    {
     "name": "stderr",
     "output_type": "stream",
     "text": [
      "Veryfing multiple users: 100%|██████████| 50/50 [00:29<00:00,  1.68it/s]\n"
     ]
    }
   ],
   "execution_count": 8
  },
  {
   "metadata": {},
   "cell_type": "markdown",
   "source": "### With brute force",
   "id": "22a28f2964169647"
  },
  {
   "metadata": {
    "ExecuteTime": {
     "end_time": "2024-05-12T15:21:57.344345Z",
     "start_time": "2024-05-12T15:21:57.341719Z"
    }
   },
   "cell_type": "code",
   "source": "voice_recognition_system.allow_brute_force = True",
   "id": "49bd0598bd89bc40",
   "outputs": [],
   "execution_count": 9
  },
  {
   "metadata": {
    "ExecuteTime": {
     "end_time": "2024-05-12T15:22:32.953594Z",
     "start_time": "2024-05-12T15:22:15.327491Z"
    }
   },
   "cell_type": "code",
   "source": [
    "df_unauthorized_users_brute_force = voice_recognition_system.verify_multiple_users(\n",
    "    incoming_users_path=experiment_unauthorized_path\n",
    ")"
   ],
   "id": "924cc61bb245309b",
   "outputs": [
    {
     "name": "stderr",
     "output_type": "stream",
     "text": [
      "Veryfing multiple users: 100%|██████████| 50/50 [00:17<00:00,  2.84it/s]\n"
     ]
    }
   ],
   "execution_count": 11
  },
  {
   "metadata": {},
   "cell_type": "markdown",
   "source": "# Calculating metrics",
   "id": "3ff82225da353f8a"
  },
  {
   "metadata": {
    "ExecuteTime": {
     "end_time": "2024-05-12T15:22:32.957269Z",
     "start_time": "2024-05-12T15:22:32.954598Z"
    }
   },
   "cell_type": "code",
   "source": [
    "configurations = {\n",
    "    \"default\": (df_authorized_users, df_unauthorized_users),\n",
    "    \"brute_force\": (\n",
    "        df_authorized_users,\n",
    "        df_unauthorized_users_brute_force,\n",
    "    ),\n",
    "}"
   ],
   "id": "930428bb1c434de6",
   "outputs": [],
   "execution_count": 12
  },
  {
   "metadata": {
    "ExecuteTime": {
     "end_time": "2024-05-12T15:22:33.324354Z",
     "start_time": "2024-05-12T15:22:32.958274Z"
    }
   },
   "cell_type": "code",
   "source": [
    "for configuration_name in configurations.keys():\n",
    "    df_authorized_users, df_unauthorized_users = configurations[configuration_name]\n",
    "\n",
    "    false_acceptance_rate, false_rejection_rate = (\n",
    "        voice_recognition_system.calculate_far_frr(\n",
    "            df_authorized_users, df_unauthorized_users\n",
    "        )\n",
    "    )\n",
    "    true_negative, false_positive, false_negative, true_positive = (\n",
    "        voice_recognition_system.calculate_ROC_curve(\n",
    "            df_authorized_users,\n",
    "            df_unauthorized_users,\n",
    "            roc_curve_path=os.path.join(\n",
    "                results_path, f\"ROC_curve_{configuration_name}.png\"\n",
    "            ),\n",
    "        )\n",
    "    )\n",
    "    accuracy = (true_positive + true_negative) / (\n",
    "        true_positive + true_negative + false_positive + false_negative\n",
    "    )\n",
    "    access_granted_rate = voice_recognition_system.calculate_access_granted_rate(\n",
    "        df_authorized_users\n",
    "    )\n",
    "    results_dict = {\n",
    "        \"FAR\": np.round(false_acceptance_rate, 3),\n",
    "        \"FRR\": np.round(false_rejection_rate, 3),\n",
    "        \"TN\": true_negative,\n",
    "        \"FP\": false_positive,\n",
    "        \"FN\": false_negative,\n",
    "        \"TP\": true_positive,\n",
    "        \"ACC\": np.round(accuracy, 3),\n",
    "        \"AGR\": np.round(access_granted_rate, 3),\n",
    "    }\n",
    "\n",
    "    # convert int64 values to native Python integers\n",
    "    for key, value in results_dict.items():\n",
    "        results_dict[key] = int(value) if isinstance(value, np.int64) else value\n",
    "\n",
    "    with open(\n",
    "        os.path.join(results_path, f\"results_{configuration_name}.json\"), \"w\"\n",
    "    ) as json_file:\n",
    "        json.dump(results_dict, json_file, indent=4)"
   ],
   "id": "1474344f6a3ef5cc",
   "outputs": [],
   "execution_count": 13
  }
 ],
 "metadata": {
  "kernelspec": {
   "display_name": "Python 3",
   "language": "python",
   "name": "python3"
  },
  "language_info": {
   "codemirror_mode": {
    "name": "ipython",
    "version": 2
   },
   "file_extension": ".py",
   "mimetype": "text/x-python",
   "name": "python",
   "nbconvert_exporter": "python",
   "pygments_lexer": "ipython2",
   "version": "2.7.6"
  }
 },
 "nbformat": 4,
 "nbformat_minor": 5
}
