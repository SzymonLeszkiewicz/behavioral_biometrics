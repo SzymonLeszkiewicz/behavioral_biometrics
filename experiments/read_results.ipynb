{
 "cells": [
  {
   "cell_type": "code",
   "execution_count": 2,
   "id": "initial_id",
   "metadata": {
    "collapsed": true,
    "ExecuteTime": {
     "end_time": "2024-05-12T09:18:07.144650Z",
     "start_time": "2024-05-12T09:18:07.142929Z"
    }
   },
   "outputs": [],
   "source": [
    "import pandas as pd\n",
    "import os"
   ]
  },
  {
   "cell_type": "code",
   "outputs": [
    {
     "data": {
      "text/plain": "['../results/exp3_sr_0.2.csv',\n '../results/exp3_sr_0.1.csv',\n '../results/exp3_sr_0.5.csv',\n '../results/exp1.csv',\n '../results/exp2.csv']"
     },
     "execution_count": 6,
     "metadata": {},
     "output_type": "execute_result"
    }
   ],
   "source": [
    "results_path = os.path.join('..', 'results')\n",
    "results = [os.path.join('..', 'results', x) for x in os.listdir(results_path)]\n",
    "results = [x for x in results if x.endswith('.csv')]\n",
    "results"
   ],
   "metadata": {
    "collapsed": false,
    "ExecuteTime": {
     "end_time": "2024-05-12T09:20:19.845373Z",
     "start_time": "2024-05-12T09:20:19.825588Z"
    }
   },
   "id": "d69e5b669d3a1e4c",
   "execution_count": 6
  },
  {
   "cell_type": "code",
   "outputs": [
    {
     "data": {
      "text/plain": "   Unnamed: 0                                         audio_path  \\\n0           0  /Users/szymonleszkiewicz/Desktop/pyProjects/be...   \n1           1  /Users/szymonleszkiewicz/Desktop/pyProjects/be...   \n2           2  /Users/szymonleszkiewicz/Desktop/pyProjects/be...   \n3           3  /Users/szymonleszkiewicz/Desktop/pyProjects/be...   \n4           4  /Users/szymonleszkiewicz/Desktop/pyProjects/be...   \n\n   is_access_granted  confidence  \n0               True    0.584103  \n1              False    0.570237  \n2              False    0.592577  \n3               True    0.549684  \n4              False    0.590237  ",
      "text/html": "<div>\n<style scoped>\n    .dataframe tbody tr th:only-of-type {\n        vertical-align: middle;\n    }\n\n    .dataframe tbody tr th {\n        vertical-align: top;\n    }\n\n    .dataframe thead th {\n        text-align: right;\n    }\n</style>\n<table border=\"1\" class=\"dataframe\">\n  <thead>\n    <tr style=\"text-align: right;\">\n      <th></th>\n      <th>Unnamed: 0</th>\n      <th>audio_path</th>\n      <th>is_access_granted</th>\n      <th>confidence</th>\n    </tr>\n  </thead>\n  <tbody>\n    <tr>\n      <th>0</th>\n      <td>0</td>\n      <td>/Users/szymonleszkiewicz/Desktop/pyProjects/be...</td>\n      <td>True</td>\n      <td>0.584103</td>\n    </tr>\n    <tr>\n      <th>1</th>\n      <td>1</td>\n      <td>/Users/szymonleszkiewicz/Desktop/pyProjects/be...</td>\n      <td>False</td>\n      <td>0.570237</td>\n    </tr>\n    <tr>\n      <th>2</th>\n      <td>2</td>\n      <td>/Users/szymonleszkiewicz/Desktop/pyProjects/be...</td>\n      <td>False</td>\n      <td>0.592577</td>\n    </tr>\n    <tr>\n      <th>3</th>\n      <td>3</td>\n      <td>/Users/szymonleszkiewicz/Desktop/pyProjects/be...</td>\n      <td>True</td>\n      <td>0.549684</td>\n    </tr>\n    <tr>\n      <th>4</th>\n      <td>4</td>\n      <td>/Users/szymonleszkiewicz/Desktop/pyProjects/be...</td>\n      <td>False</td>\n      <td>0.590237</td>\n    </tr>\n  </tbody>\n</table>\n</div>"
     },
     "execution_count": 9,
     "metadata": {},
     "output_type": "execute_result"
    }
   ],
   "source": [
    "df1 = pd.read_csv(results[0])\n",
    "df1.head()"
   ],
   "metadata": {
    "collapsed": false,
    "ExecuteTime": {
     "end_time": "2024-05-12T09:20:58.219239Z",
     "start_time": "2024-05-12T09:20:58.200825Z"
    }
   },
   "id": "6335a10b792f310e",
   "execution_count": 9
  },
  {
   "cell_type": "code",
   "outputs": [],
   "source": [],
   "metadata": {
    "collapsed": false
   },
   "id": "1f4e49f76f9ebb00"
  }
 ],
 "metadata": {
  "kernelspec": {
   "display_name": "Python 3",
   "language": "python",
   "name": "python3"
  },
  "language_info": {
   "codemirror_mode": {
    "name": "ipython",
    "version": 2
   },
   "file_extension": ".py",
   "mimetype": "text/x-python",
   "name": "python",
   "nbconvert_exporter": "python",
   "pygments_lexer": "ipython2",
   "version": "2.7.6"
  }
 },
 "nbformat": 4,
 "nbformat_minor": 5
}
