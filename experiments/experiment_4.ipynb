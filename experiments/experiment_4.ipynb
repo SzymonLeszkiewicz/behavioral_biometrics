{
 "cells": [
  {
   "metadata": {},
   "cell_type": "markdown",
   "source": [
    "Dodaj do 100 próbek zakłócenia o rozkładzie {N (0, 1), N (0, 10), N (5, 1)}, a\n",
    "następnie zbadaj skuteczność systemu."
   ],
   "id": "e3c04246d0a4fcfc"
  },
  {
   "metadata": {},
   "cell_type": "markdown",
   "source": "# Imports",
   "id": "21a5b610db8e71f4"
  },
  {
   "metadata": {
    "ExecuteTime": {
     "end_time": "2024-05-12T17:22:08.997566Z",
     "start_time": "2024-05-12T17:22:06.863271Z"
    }
   },
   "cell_type": "code",
   "source": [
    "import json\n",
    "import os\n",
    "\n",
    "import numpy as np\n",
    "\n",
    "from experiments.prepare_experiments import prepare_experiment_4\n",
    "from scripts.voice_recognition_system import VoiceRecognitionSystem"
   ],
   "id": "c1b295661f6fa435",
   "outputs": [
    {
     "name": "stderr",
     "output_type": "stream",
     "text": [
      "C:\\Virtual_Environments\\venv_BIO_3.12\\Lib\\site-packages\\tqdm\\auto.py:21: TqdmWarning: IProgress not found. Please update jupyter and ipywidgets. See https://ipywidgets.readthedocs.io/en/stable/user_install.html\n",
      "  from .autonotebook import tqdm as notebook_tqdm\n"
     ]
    }
   ],
   "execution_count": 1
  },
  {
   "metadata": {},
   "cell_type": "markdown",
   "source": "# Define File Paths",
   "id": "a739cdc7005b12e6"
  },
  {
   "metadata": {
    "ExecuteTime": {
     "end_time": "2024-05-12T17:22:09.001202Z",
     "start_time": "2024-05-12T17:22:08.998570Z"
    }
   },
   "cell_type": "code",
   "source": [
    "parent_directory = os.path.abspath(os.path.join(os.getcwd(), os.pardir))\n",
    "data_directory = os.path.join(parent_directory, \"data\")\n",
    "\n",
    "database_path = os.path.join(data_directory, \"database\")\n",
    "\n",
    "incoming_authorized_users_path = os.path.join(\n",
    "    data_directory, \"database\", \"incoming_users\", \"authorized_users\"\n",
    ")\n",
    "incoming_unauthorized_users_path = os.path.join(\n",
    "    data_directory, \"database\", \"incoming_users\", \"unauthorized_users\"\n",
    ")"
   ],
   "id": "c225b2543142125a",
   "outputs": [],
   "execution_count": 2
  },
  {
   "metadata": {
    "ExecuteTime": {
     "end_time": "2024-05-12T17:22:09.005054Z",
     "start_time": "2024-05-12T17:22:09.001202Z"
    }
   },
   "cell_type": "code",
   "source": [
    "experiment_name = \"experiment_4\"\n",
    "experiment_path = os.path.join(data_directory, experiment_name)"
   ],
   "id": "c06fa8512340ba0",
   "outputs": [],
   "execution_count": 3
  },
  {
   "metadata": {},
   "cell_type": "markdown",
   "source": "# Initialize System",
   "id": "332353037c0f4542"
  },
  {
   "metadata": {
    "ExecuteTime": {
     "end_time": "2024-05-12T17:22:29.761237Z",
     "start_time": "2024-05-12T17:22:09.005054Z"
    }
   },
   "cell_type": "code",
   "source": [
    "voice_recognition_system = VoiceRecognitionSystem(\n",
    "    database_path, acceptance_threshold=0.7, allow_brute_force=False\n",
    ")"
   ],
   "id": "ea3726cfdccfa91f",
   "outputs": [
    {
     "name": "stderr",
     "output_type": "stream",
     "text": [
      "WARNING:root:unexpected tensor: projection.weight\n",
      "Initializing database: 100%|██████████| 100/100 [00:20<00:00,  4.93it/s]\n"
     ]
    }
   ],
   "execution_count": 4
  },
  {
   "metadata": {},
   "cell_type": "markdown",
   "source": "# Prepare Experiment",
   "id": "6cac3c814bc04e21"
  },
  {
   "metadata": {
    "ExecuteTime": {
     "end_time": "2024-05-12T17:22:34.556625Z",
     "start_time": "2024-05-12T17:22:29.762243Z"
    }
   },
   "cell_type": "code",
   "source": [
    "prepare_experiment_4(\n",
    "    experiment_path,\n",
    "    incoming_authorized_users_path,\n",
    "    incoming_unauthorized_users_path,\n",
    "    100,\n",
    ")"
   ],
   "id": "6eb86522554676e",
   "outputs": [
    {
     "name": "stderr",
     "output_type": "stream",
     "text": [
      "                                                               9.45it/s]\r"
     ]
    }
   ],
   "execution_count": 5
  },
  {
   "metadata": {},
   "cell_type": "markdown",
   "source": "# Conduct Experiment",
   "id": "8256791e61f34295"
  },
  {
   "metadata": {
    "ExecuteTime": {
     "end_time": "2024-05-12T17:23:23.336814Z",
     "start_time": "2024-05-12T17:22:34.556625Z"
    }
   },
   "cell_type": "code",
   "source": [
    "for noise_tuple in [(0, 1), (0, 10), (5, 1)]:\n",
    "    experiment_authorized_path = os.path.join(\n",
    "        experiment_path, f\"noise_{noise_tuple}\", \"authorized\"\n",
    "    )\n",
    "    experiment_unauthorized_path = os.path.join(\n",
    "        experiment_path, f\"noise_{noise_tuple}\", \"unauthorized\"\n",
    "    )\n",
    "\n",
    "    # Without brute force\n",
    "    df_authorized_users = voice_recognition_system.verify_multiple_users(\n",
    "        incoming_users_path=experiment_authorized_path,\n",
    "    )\n",
    "    df_unauthorized_users = voice_recognition_system.verify_multiple_users(\n",
    "        incoming_users_path=experiment_unauthorized_path,\n",
    "    )\n",
    "\n",
    "    # With brute force\n",
    "    voice_recognition_system.allow_brute_force = True\n",
    "\n",
    "    df_unauthorized_users_brute_force = voice_recognition_system.verify_multiple_users(\n",
    "        incoming_users_path=experiment_unauthorized_path\n",
    "    )\n",
    "\n",
    "    results_path = os.path.join(\n",
    "        parent_directory, \"results\", experiment_name, f\"noise_{noise_tuple}\"\n",
    "    )\n",
    "\n",
    "    if not os.path.exists(results_path):\n",
    "        os.makedirs(results_path, exist_ok=True)\n",
    "\n",
    "    # Calculating metrics\n",
    "    configurations = {\n",
    "        \"default\": (df_authorized_users, df_unauthorized_users),\n",
    "        \"brute_force\": (\n",
    "            df_authorized_users,\n",
    "            df_unauthorized_users_brute_force,\n",
    "        ),\n",
    "    }\n",
    "    for configuration_name in configurations.keys():\n",
    "        df_authorized_users, df_unauthorized_users = configurations[configuration_name]\n",
    "\n",
    "        false_acceptance_rate, false_rejection_rate = (\n",
    "            voice_recognition_system.calculate_far_frr(\n",
    "                df_authorized_users, df_unauthorized_users\n",
    "            )\n",
    "        )\n",
    "        true_negative, false_positive, false_negative, true_positive = (\n",
    "            voice_recognition_system.calculate_ROC_curve(\n",
    "                df_authorized_users,\n",
    "                df_unauthorized_users,\n",
    "                roc_curve_path=os.path.join(\n",
    "                    results_path, f\"ROC_curve_{configuration_name}.png\"\n",
    "                ),\n",
    "            )\n",
    "        )\n",
    "        accuracy = (true_positive + true_negative) / (\n",
    "            true_positive + true_negative + false_positive + false_negative\n",
    "        )\n",
    "        access_granted_rate = voice_recognition_system.calculate_access_granted_rate(\n",
    "            df_authorized_users\n",
    "        )\n",
    "        results_dict = {\n",
    "            \"FAR\": np.round(false_acceptance_rate, 3),\n",
    "            \"FRR\": np.round(false_rejection_rate, 3),\n",
    "            \"TN\": true_negative,\n",
    "            \"FP\": false_positive,\n",
    "            \"FN\": false_negative,\n",
    "            \"TP\": true_positive,\n",
    "            \"ACC\": np.round(accuracy, 3),\n",
    "            \"AGR\": np.round(access_granted_rate, 3),\n",
    "        }\n",
    "\n",
    "        # convert int64 values to native Python integers\n",
    "        for key, value in results_dict.items():\n",
    "            results_dict[key] = int(value) if isinstance(value, np.int64) else value\n",
    "\n",
    "        with open(\n",
    "            os.path.join(results_path, f\"results_{configuration_name}.json\"), \"w\"\n",
    "        ) as json_file:\n",
    "            json.dump(results_dict, json_file, indent=4)"
   ],
   "id": "90ef44be9673e70a",
   "outputs": [
    {
     "name": "stderr",
     "output_type": "stream",
     "text": [
      "Veryfing multiple users: 100%|██████████| 40/40 [00:13<00:00,  3.00it/s]\n",
      "Veryfing multiple users: 100%|██████████| 41/41 [00:10<00:00,  3.96it/s]\n",
      "Veryfing multiple users: 100%|██████████| 41/41 [00:03<00:00, 11.81it/s]\n",
      "Veryfing multiple users: 100%|██████████| 40/40 [00:03<00:00, 11.75it/s]\n",
      "Veryfing multiple users: 100%|██████████| 41/41 [00:03<00:00, 12.77it/s]\n",
      "Veryfing multiple users: 100%|██████████| 41/41 [00:03<00:00, 11.92it/s]\n",
      "Veryfing multiple users: 100%|██████████| 40/40 [00:03<00:00, 11.21it/s]\n",
      "Veryfing multiple users: 100%|██████████| 41/41 [00:03<00:00, 11.79it/s]\n",
      "Veryfing multiple users: 100%|██████████| 41/41 [00:03<00:00, 12.05it/s]\n"
     ]
    }
   ],
   "execution_count": 6
  }
 ],
 "metadata": {
  "kernelspec": {
   "display_name": "Python 3",
   "language": "python",
   "name": "python3"
  },
  "language_info": {
   "codemirror_mode": {
    "name": "ipython",
    "version": 2
   },
   "file_extension": ".py",
   "mimetype": "text/x-python",
   "name": "python",
   "nbconvert_exporter": "python",
   "pygments_lexer": "ipython2",
   "version": "2.7.6"
  }
 },
 "nbformat": 4,
 "nbformat_minor": 5
}
