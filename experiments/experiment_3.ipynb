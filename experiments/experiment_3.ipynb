{
 "cells": [
  {
   "metadata": {},
   "cell_type": "markdown",
   "source": [
    "Dla wybranych 200 próbek sygnału, zmniejsz częstotliwość próbkowania poprzez\n",
    "pozostawienie co 2, co 5 oraz co 10 wartości (pamiętaj o metadanych). Sprawdź\n",
    "jak subsampling wpływa na wymaganą długość próbki sygnału oraz na skuteczność uwierzytelniania."
   ],
   "id": "43fb0a92e6d77e28"
  },
  {
   "metadata": {},
   "cell_type": "markdown",
   "source": "# Imports",
   "id": "52d7f4af6ccb26eb"
  },
  {
   "metadata": {
    "ExecuteTime": {
     "end_time": "2024-05-12T16:21:59.892111Z",
     "start_time": "2024-05-12T16:21:57.941044Z"
    }
   },
   "cell_type": "code",
   "source": [
    "import json\n",
    "import os\n",
    "\n",
    "import numpy as np\n",
    "\n",
    "from experiments.prepare_experiments import prepare_experiment_3\n",
    "from scripts.voice_recognition_system import VoiceRecognitionSystem"
   ],
   "id": "768e248b06432949",
   "outputs": [
    {
     "name": "stderr",
     "output_type": "stream",
     "text": [
      "C:\\Virtual_Environments\\venv_BIO_3.12\\Lib\\site-packages\\tqdm\\auto.py:21: TqdmWarning: IProgress not found. Please update jupyter and ipywidgets. See https://ipywidgets.readthedocs.io/en/stable/user_install.html\n",
      "  from .autonotebook import tqdm as notebook_tqdm\n"
     ]
    }
   ],
   "execution_count": 1
  },
  {
   "metadata": {},
   "cell_type": "markdown",
   "source": "# Define File Paths",
   "id": "fc78ac5507cd4b86"
  },
  {
   "metadata": {
    "ExecuteTime": {
     "end_time": "2024-05-12T16:21:59.895619Z",
     "start_time": "2024-05-12T16:21:59.892111Z"
    }
   },
   "cell_type": "code",
   "source": [
    "parent_directory = os.path.abspath(os.path.join(os.getcwd(), os.pardir))\n",
    "data_directory = os.path.join(parent_directory, \"data\")\n",
    "\n",
    "database_path = os.path.join(data_directory, \"database\")\n",
    "\n",
    "incoming_authorized_users_path = os.path.join(\n",
    "    data_directory, \"database\", \"incoming_users\", \"authorized_users\"\n",
    ")\n",
    "incoming_unauthorized_users_path = os.path.join(\n",
    "    data_directory, \"database\", \"incoming_users\", \"unauthorized_users\"\n",
    ")"
   ],
   "id": "bf2fe4ed8e9b03f7",
   "outputs": [],
   "execution_count": 2
  },
  {
   "metadata": {
    "ExecuteTime": {
     "end_time": "2024-05-12T16:21:59.900295Z",
     "start_time": "2024-05-12T16:21:59.895619Z"
    }
   },
   "cell_type": "code",
   "source": [
    "experiment_name = \"experiment_3\"\n",
    "experiment_path = os.path.join(data_directory, experiment_name)"
   ],
   "id": "e00b6a121c3273ab",
   "outputs": [],
   "execution_count": 3
  },
  {
   "metadata": {},
   "cell_type": "markdown",
   "source": "# Initialize System",
   "id": "b0eee964b14bd52e"
  },
  {
   "metadata": {
    "ExecuteTime": {
     "end_time": "2024-05-12T16:22:20.313673Z",
     "start_time": "2024-05-12T16:21:59.900295Z"
    }
   },
   "cell_type": "code",
   "source": [
    "voice_recognition_system = VoiceRecognitionSystem(\n",
    "    database_path, acceptance_threshold=0.7, allow_brute_force=False\n",
    ")"
   ],
   "id": "fbbe7fb76f67f47",
   "outputs": [
    {
     "name": "stderr",
     "output_type": "stream",
     "text": [
      "WARNING:root:unexpected tensor: projection.weight\n",
      "Initializing database: 100%|██████████| 100/100 [00:19<00:00,  5.02it/s]\n"
     ]
    }
   ],
   "execution_count": 4
  },
  {
   "metadata": {},
   "cell_type": "markdown",
   "source": "# Prepare Experiment",
   "id": "a8288b01ad509a1b"
  },
  {
   "metadata": {
    "ExecuteTime": {
     "end_time": "2024-05-12T16:22:26.675133Z",
     "start_time": "2024-05-12T16:22:20.314676Z"
    }
   },
   "cell_type": "code",
   "source": [
    "prepare_experiment_3(\n",
    "    experiment_path,\n",
    "    incoming_authorized_users_path,\n",
    "    incoming_unauthorized_users_path,\n",
    "    200,\n",
    ")"
   ],
   "id": "3f1ec55f02815fe0",
   "outputs": [
    {
     "name": "stderr",
     "output_type": "stream",
     "text": [
      "                                                               2.78it/s]\r"
     ]
    }
   ],
   "execution_count": 5
  },
  {
   "metadata": {},
   "cell_type": "markdown",
   "source": "# Conduct Experiment",
   "id": "e877060451e5290"
  },
  {
   "metadata": {
    "ExecuteTime": {
     "end_time": "2024-05-12T16:23:56.503509Z",
     "start_time": "2024-05-12T16:22:26.675133Z"
    }
   },
   "cell_type": "code",
   "source": [
    "for sample_rate_reduction in [0.1, 0.2, 0.5]:\n",
    "    experiment_authorized_path = os.path.join(experiment_path, f\"sample_rate_{sample_rate_reduction}\", \"authorized\")\n",
    "    experiment_unauthorized_path = os.path.join(experiment_path, f\"sample_rate_{sample_rate_reduction}\", \"unauthorized\")\n",
    "    \n",
    "    # Without brute force\n",
    "    df_authorized_users = voice_recognition_system.verify_multiple_users(\n",
    "        incoming_users_path=experiment_authorized_path,\n",
    "    )\n",
    "    df_unauthorized_users = voice_recognition_system.verify_multiple_users(\n",
    "        incoming_users_path=experiment_unauthorized_path,\n",
    "    )\n",
    "    \n",
    "    # With brute force\n",
    "    voice_recognition_system.allow_brute_force = True\n",
    "\n",
    "    df_unauthorized_users_brute_force = voice_recognition_system.verify_multiple_users(\n",
    "        incoming_users_path=experiment_unauthorized_path\n",
    "    )\n",
    "    \n",
    "    results_path = os.path.join(parent_directory, \"results\", experiment_name, f\"sample_rate_{sample_rate_reduction}\")\n",
    "\n",
    "    if not os.path.exists(results_path):\n",
    "        os.makedirs(results_path, exist_ok=True)\n",
    "    \n",
    "    # Calculating metrics\n",
    "    configurations = {\n",
    "        \"default\": (df_authorized_users, df_unauthorized_users),\n",
    "        \"brute_force\": (\n",
    "            df_authorized_users,\n",
    "            df_unauthorized_users_brute_force,\n",
    "        ),\n",
    "    }\n",
    "    for configuration_name in configurations.keys():\n",
    "        df_authorized_users, df_unauthorized_users = configurations[configuration_name]\n",
    "    \n",
    "        false_acceptance_rate, false_rejection_rate = (\n",
    "            voice_recognition_system.calculate_far_frr(\n",
    "                df_authorized_users, df_unauthorized_users\n",
    "            )\n",
    "        )\n",
    "        true_negative, false_positive, false_negative, true_positive = (\n",
    "            voice_recognition_system.calculate_ROC_curve(\n",
    "                df_authorized_users,\n",
    "                df_unauthorized_users,\n",
    "                roc_curve_path=os.path.join(\n",
    "                    results_path, f\"ROC_curve_{configuration_name}.png\"\n",
    "                ),\n",
    "            )\n",
    "        )\n",
    "        accuracy = (true_positive + true_negative) / (\n",
    "            true_positive + true_negative + false_positive + false_negative\n",
    "        )\n",
    "        access_granted_rate = voice_recognition_system.calculate_access_granted_rate(\n",
    "            df_authorized_users\n",
    "        )\n",
    "        results_dict = {\n",
    "            \"FAR\": np.round(false_acceptance_rate, 3),\n",
    "            \"FRR\": np.round(false_rejection_rate, 3),\n",
    "            \"TN\": true_negative,\n",
    "            \"FP\": false_positive,\n",
    "            \"FN\": false_negative,\n",
    "            \"TP\": true_positive,\n",
    "            \"ACC\": np.round(accuracy, 3),\n",
    "            \"AGR\": np.round(access_granted_rate, 3),\n",
    "        }\n",
    "    \n",
    "        # convert int64 values to native Python integers\n",
    "        for key, value in results_dict.items():\n",
    "            results_dict[key] = int(value) if isinstance(value, np.int64) else value\n",
    "    \n",
    "        with open(\n",
    "            os.path.join(results_path, f\"results_{configuration_name}.json\"), \"w\"\n",
    "        ) as json_file:\n",
    "            json.dump(results_dict, json_file, indent=4)"
   ],
   "id": "420abf6176c60df3",
   "outputs": [
    {
     "name": "stderr",
     "output_type": "stream",
     "text": [
      "Veryfing multiple users: 100%|██████████| 46/46 [00:23<00:00,  1.98it/s]\n",
      "Veryfing multiple users: 100%|██████████| 48/48 [00:16<00:00,  2.90it/s]\n",
      "Veryfing multiple users: 100%|██████████| 48/48 [00:06<00:00,  7.37it/s]\n",
      "Veryfing multiple users: 100%|██████████| 46/46 [00:06<00:00,  6.64it/s]\n",
      "Veryfing multiple users: 100%|██████████| 48/48 [00:07<00:00,  6.77it/s]\n",
      "Veryfing multiple users: 100%|██████████| 48/48 [00:06<00:00,  6.89it/s]\n",
      "Veryfing multiple users: 100%|██████████| 46/46 [00:07<00:00,  6.35it/s]\n",
      "Veryfing multiple users: 100%|██████████| 48/48 [00:07<00:00,  6.75it/s]\n",
      "Veryfing multiple users: 100%|██████████| 48/48 [00:07<00:00,  6.80it/s]\n"
     ]
    }
   ],
   "execution_count": 6
  }
 ],
 "metadata": {
  "kernelspec": {
   "display_name": "Python 3",
   "language": "python",
   "name": "python3"
  },
  "language_info": {
   "codemirror_mode": {
    "name": "ipython",
    "version": 2
   },
   "file_extension": ".py",
   "mimetype": "text/x-python",
   "name": "python",
   "nbconvert_exporter": "python",
   "pygments_lexer": "ipython2",
   "version": "2.7.6"
  }
 },
 "nbformat": 4,
 "nbformat_minor": 5
}
