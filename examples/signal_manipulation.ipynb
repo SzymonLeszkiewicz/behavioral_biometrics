{
 "cells": [
  {
   "cell_type": "code",
   "id": "initial_id",
   "metadata": {
    "collapsed": true,
    "ExecuteTime": {
     "end_time": "2024-05-09T21:19:36.944573Z",
     "start_time": "2024-05-09T21:19:36.629498Z"
    }
   },
   "source": [
    "import os\n",
    "\n",
    "from scripts.signal_manipulation import (\n",
    "    add_gaussian_noise,\n",
    "    random_amplitude_multiply,\n",
    "    change_sampling_rate,\n",
    ")"
   ],
   "outputs": [],
   "execution_count": 1
  },
  {
   "metadata": {},
   "cell_type": "code",
   "source": [
    "# TODO: for 100 samples perform Gaussian noise addition\n",
    "noise_tuples = [(0, 1), (0, 10), (5, 1)]\n",
    "for noise_tuple in noise_tuples:\n",
    "    add_gaussian_noise(\n",
    "        os.path.join(\"..\", \"data\", \"test\"),\n",
    "        os.path.join(\"..\", \"data\", \"test_out\"),\n",
    "        noise_tuple=noise_tuple,\n",
    "    )"
   ],
   "id": "542768f6e7748326",
   "outputs": [],
   "execution_count": null
  },
  {
   "metadata": {},
   "cell_type": "code",
   "source": [
    "# TODO: for 500 samples perform multiplying amplitude\n",
    "random_amplitude_multiply(\n",
    "    os.path.join(\"..\", \"data\", \"test\"), os.path.join(\"..\", \"data\", \"test_out\")\n",
    ")"
   ],
   "id": "dbfaed959316a409",
   "outputs": [],
   "execution_count": null
  },
  {
   "metadata": {},
   "cell_type": "code",
   "source": [
    "# TODO: for 200 samples perform sample rate change\n",
    "sample_rate_factors = [0.5, 0.2, 0.1]\n",
    "for sr_factor in sample_rate_factors:\n",
    "    change_sampling_rate(\n",
    "        os.path.join(\"..\", \"data\", \"test\"),\n",
    "        os.path.join(\"..\", \"data\", \"test_out\"),\n",
    "        sampling_rate_factor=sr_factor,\n",
    "    )"
   ],
   "id": "bafb8eddd0bfcee8",
   "outputs": [],
   "execution_count": null
  }
 ],
 "metadata": {
  "kernelspec": {
   "display_name": "Python 3",
   "language": "python",
   "name": "python3"
  },
  "language_info": {
   "codemirror_mode": {
    "name": "ipython",
    "version": 2
   },
   "file_extension": ".py",
   "mimetype": "text/x-python",
   "name": "python",
   "nbconvert_exporter": "python",
   "pygments_lexer": "ipython2",
   "version": "2.7.6"
  }
 },
 "nbformat": 4,
 "nbformat_minor": 5
}
