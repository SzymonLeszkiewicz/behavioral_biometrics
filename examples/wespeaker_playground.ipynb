{
 "cells": [
  {
   "metadata": {},
   "cell_type": "markdown",
   "source": "# Imports",
   "id": "2f33298fc5febc91"
  },
  {
   "cell_type": "code",
   "id": "initial_id",
   "metadata": {
    "collapsed": true,
    "ExecuteTime": {
     "end_time": "2024-05-07T20:38:55.970187Z",
     "start_time": "2024-05-07T20:38:54.340852Z"
    }
   },
   "source": [
    "import os\n",
    "\n",
    "import wespeaker"
   ],
   "outputs": [],
   "execution_count": 1
  },
  {
   "metadata": {
    "ExecuteTime": {
     "end_time": "2024-05-07T20:38:55.973038Z",
     "start_time": "2024-05-07T20:38:55.970187Z"
    }
   },
   "cell_type": "code",
   "source": [
    "parent_directory = os.path.abspath(os.path.join(os.getcwd(), os.pardir))\n",
    "data_directory = os.path.join(parent_directory, \"data\")"
   ],
   "id": "db4eba9260f92cdd",
   "outputs": [],
   "execution_count": 2
  },
  {
   "metadata": {},
   "cell_type": "markdown",
   "source": "# Model Setup",
   "id": "b1c08021968b08c5"
  },
  {
   "metadata": {
    "ExecuteTime": {
     "end_time": "2024-05-07T20:38:56.297344Z",
     "start_time": "2024-05-07T20:38:55.973038Z"
    }
   },
   "cell_type": "code",
   "source": [
    "model = wespeaker.load_model(\"english\")"
   ],
   "id": "9937fda66e3d9948",
   "outputs": [
    {
     "name": "stderr",
     "output_type": "stream",
     "text": [
      "WARNING:root:unexpected tensor: projection.weight\n"
     ]
    }
   ],
   "execution_count": 3
  },
  {
   "metadata": {
    "ExecuteTime": {
     "end_time": "2024-05-07T20:38:56.460444Z",
     "start_time": "2024-05-07T20:38:56.297344Z"
    }
   },
   "cell_type": "code",
   "source": "model.set_gpu(0)",
   "id": "a66dcf16b9bd7d0b",
   "outputs": [],
   "execution_count": 4
  },
  {
   "metadata": {},
   "cell_type": "markdown",
   "source": "# Usage Examples",
   "id": "79af3e174ad0ceaa"
  },
  {
   "metadata": {
    "ExecuteTime": {
     "end_time": "2024-05-07T20:38:56.896298Z",
     "start_time": "2024-05-07T20:38:56.460444Z"
    }
   },
   "cell_type": "code",
   "source": "embedding = model.extract_embedding(os.path.join(data_directory, \"1.wav\"))",
   "id": "6e0c59bb4a96d40c",
   "outputs": [],
   "execution_count": 5
  },
  {
   "metadata": {
    "ExecuteTime": {
     "end_time": "2024-05-07T20:38:57.239236Z",
     "start_time": "2024-05-07T20:38:56.896298Z"
    }
   },
   "cell_type": "code",
   "source": [
    "model.compute_similarity(\n",
    "    os.path.join(data_directory, \"1.wav\"), os.path.join(data_directory, \"2.wav\")\n",
    ")"
   ],
   "id": "8efd4c0fd0596251",
   "outputs": [
    {
     "data": {
      "text/plain": [
       "0.9282881319522858"
      ]
     },
     "execution_count": 6,
     "metadata": {},
     "output_type": "execute_result"
    }
   ],
   "execution_count": 6
  },
  {
   "metadata": {
    "ExecuteTime": {
     "end_time": "2024-05-07T20:38:57.334297Z",
     "start_time": "2024-05-07T20:38:57.239236Z"
    }
   },
   "cell_type": "code",
   "source": [
    "model.register(\"First_User_1\", os.path.join(data_directory, \"1.wav\"))\n",
    "model.register(\"First_User_2\", os.path.join(data_directory, \"2.wav\"))"
   ],
   "id": "190f0a2ea386540d",
   "outputs": [],
   "execution_count": 7
  },
  {
   "metadata": {
    "ExecuteTime": {
     "end_time": "2024-05-07T20:38:57.589898Z",
     "start_time": "2024-05-07T20:38:57.334297Z"
    }
   },
   "cell_type": "code",
   "source": "model.recognize(os.path.join(data_directory, \"3.wav\"))",
   "id": "349cf358ed7c7003",
   "outputs": [
    {
     "data": {
      "text/plain": [
       "{'name': 'First_User_2', 'confidence': 0.9424761235713959}"
      ]
     },
     "execution_count": 8,
     "metadata": {},
     "output_type": "execute_result"
    }
   ],
   "execution_count": 8
  }
 ],
 "metadata": {
  "kernelspec": {
   "display_name": "Python 3",
   "language": "python",
   "name": "python3"
  },
  "language_info": {
   "codemirror_mode": {
    "name": "ipython",
    "version": 2
   },
   "file_extension": ".py",
   "mimetype": "text/x-python",
   "name": "python",
   "nbconvert_exporter": "python",
   "pygments_lexer": "ipython2",
   "version": "2.7.6"
  }
 },
 "nbformat": 4,
 "nbformat_minor": 5
}
