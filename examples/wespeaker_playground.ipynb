{
 "cells": [
  {
   "cell_type": "code",
   "id": "initial_id",
   "metadata": {
    "collapsed": true,
    "ExecuteTime": {
     "end_time": "2024-05-07T20:02:31.837897Z",
     "start_time": "2024-05-07T20:02:30.149435Z"
    }
   },
   "source": "import wespeaker",
   "outputs": [],
   "execution_count": 1
  },
  {
   "metadata": {
    "ExecuteTime": {
     "end_time": "2024-05-07T20:02:32.155903Z",
     "start_time": "2024-05-07T20:02:31.838400Z"
    }
   },
   "cell_type": "code",
   "source": [
    "model = wespeaker.load_model(\"english\")"
   ],
   "id": "9937fda66e3d9948",
   "outputs": [
    {
     "name": "stderr",
     "output_type": "stream",
     "text": [
      "WARNING:root:unexpected tensor: projection.weight\n"
     ]
    }
   ],
   "execution_count": 2
  },
  {
   "metadata": {
    "ExecuteTime": {
     "end_time": "2024-05-07T20:02:32.327693Z",
     "start_time": "2024-05-07T20:02:32.155903Z"
    }
   },
   "cell_type": "code",
   "source": "model.set_gpu(0)",
   "id": "a66dcf16b9bd7d0b",
   "outputs": [],
   "execution_count": 3
  },
  {
   "metadata": {
    "ExecuteTime": {
     "end_time": "2024-05-07T20:02:32.802836Z",
     "start_time": "2024-05-07T20:02:32.328695Z"
    }
   },
   "cell_type": "code",
   "source": "embedding = model.extract_embedding(\"../data/1.wav\")",
   "id": "6e0c59bb4a96d40c",
   "outputs": [],
   "execution_count": 4
  },
  {
   "metadata": {
    "ExecuteTime": {
     "end_time": "2024-05-07T20:02:33.121286Z",
     "start_time": "2024-05-07T20:02:32.802836Z"
    }
   },
   "cell_type": "code",
   "source": "model.compute_similarity(\"../data/1.wav\", \"../data/2.wav\")",
   "id": "8efd4c0fd0596251",
   "outputs": [
    {
     "data": {
      "text/plain": [
       "0.9282878041267395"
      ]
     },
     "execution_count": 5,
     "metadata": {},
     "output_type": "execute_result"
    }
   ],
   "execution_count": 5
  },
  {
   "metadata": {
    "ExecuteTime": {
     "end_time": "2024-05-07T20:02:33.217964Z",
     "start_time": "2024-05-07T20:02:33.121286Z"
    }
   },
   "cell_type": "code",
   "source": [
    "model.register(\"First_User_1\", \"../data/1.wav\")\n",
    "model.register(\"First_User_2\", \"../data/2.wav\")"
   ],
   "id": "190f0a2ea386540d",
   "outputs": [],
   "execution_count": 6
  },
  {
   "metadata": {
    "ExecuteTime": {
     "end_time": "2024-05-07T20:02:33.480561Z",
     "start_time": "2024-05-07T20:02:33.218966Z"
    }
   },
   "cell_type": "code",
   "source": "model.recognize(\"../data/3.wav\")",
   "id": "349cf358ed7c7003",
   "outputs": [
    {
     "data": {
      "text/plain": [
       "{'name': 'First_User_2', 'confidence': 0.9424948990345001}"
      ]
     },
     "execution_count": 7,
     "metadata": {},
     "output_type": "execute_result"
    }
   ],
   "execution_count": 7
  }
 ],
 "metadata": {
  "kernelspec": {
   "display_name": "Python 3",
   "language": "python",
   "name": "python3"
  },
  "language_info": {
   "codemirror_mode": {
    "name": "ipython",
    "version": 2
   },
   "file_extension": ".py",
   "mimetype": "text/x-python",
   "name": "python",
   "nbconvert_exporter": "python",
   "pygments_lexer": "ipython2",
   "version": "2.7.6"
  }
 },
 "nbformat": 4,
 "nbformat_minor": 5
}
