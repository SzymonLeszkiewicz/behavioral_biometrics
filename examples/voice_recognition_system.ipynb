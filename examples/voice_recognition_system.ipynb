{
 "cells": [
  {
   "metadata": {},
   "cell_type": "markdown",
   "source": "# Imports",
   "id": "15c57058efc4aab3"
  },
  {
   "cell_type": "code",
   "id": "initial_id",
   "metadata": {
    "collapsed": true,
    "ExecuteTime": {
     "end_time": "2024-05-09T20:48:11.595024Z",
     "start_time": "2024-05-09T20:48:09.701046Z"
    }
   },
   "source": [
    "import os\n",
    "\n",
    "from scripts.voice_recognition_system import VoiceRecognitionSystem"
   ],
   "outputs": [],
   "execution_count": 1
  },
  {
   "metadata": {},
   "cell_type": "markdown",
   "source": "# Define file paths",
   "id": "819effd518eee3c4"
  },
  {
   "metadata": {
    "ExecuteTime": {
     "end_time": "2024-05-09T20:48:11.598014Z",
     "start_time": "2024-05-09T20:48:11.595024Z"
    }
   },
   "cell_type": "code",
   "source": [
    "parent_directory = os.path.abspath(os.path.join(os.getcwd(), os.pardir))\n",
    "data_directory = os.path.join(parent_directory, \"data\")"
   ],
   "id": "d1bd66f092050e78",
   "outputs": [],
   "execution_count": 2
  },
  {
   "metadata": {
    "ExecuteTime": {
     "end_time": "2024-05-09T20:48:11.601970Z",
     "start_time": "2024-05-09T20:48:11.598014Z"
    }
   },
   "cell_type": "code",
   "source": [
    "database_path = os.path.join(data_directory, \"database\")\n",
    "\n",
    "incoming_authorized_users_path = os.path.join(\n",
    "    data_directory, \"database\", \"incoming_users\", \"authorized_users\"\n",
    ")\n",
    "incoming_unauthorized_users_path = os.path.join(\n",
    "    data_directory, \"database\", \"incoming_users\", \"unauthorized_users\"\n",
    ")"
   ],
   "id": "55deab464777694",
   "outputs": [],
   "execution_count": 3
  },
  {
   "metadata": {},
   "cell_type": "markdown",
   "source": "# Initialize System",
   "id": "575a0c263a1a06aa"
  },
  {
   "metadata": {
    "ExecuteTime": {
     "end_time": "2024-05-09T20:48:36.861763Z",
     "start_time": "2024-05-09T20:48:11.602976Z"
    }
   },
   "cell_type": "code",
   "source": [
    "voice_recognition_system = VoiceRecognitionSystem(database_path)\n",
    "voice_recognition_system_brute_force = VoiceRecognitionSystem(\n",
    "    database_path, allow_brute_force=True\n",
    ")"
   ],
   "id": "2a65c0c5c943ec30",
   "outputs": [
    {
     "name": "stderr",
     "output_type": "stream",
     "text": [
      "WARNING:root:unexpected tensor: projection.weight\n",
      "Initializing database: 100%|██████████| 100/100 [00:21<00:00,  4.73it/s]\n",
      "WARNING:root:unexpected tensor: projection.weight\n",
      "Initializing database: 100%|██████████| 100/100 [00:03<00:00, 30.38it/s]\n"
     ]
    }
   ],
   "execution_count": 4
  },
  {
   "metadata": {},
   "cell_type": "markdown",
   "source": "# Testing on authorized users",
   "id": "12a25a2839e8854e"
  },
  {
   "metadata": {
    "ExecuteTime": {
     "end_time": "2024-05-09T20:48:37.124442Z",
     "start_time": "2024-05-09T20:48:36.863770Z"
    }
   },
   "cell_type": "code",
   "source": [
    "voice_recognition_system.verify_user(\n",
    "    user_name=\"id10001\",\n",
    "    user_voice_path=os.path.join(\n",
    "        incoming_authorized_users_path, \"id10001\", \"7gWzIy6yIIk_00004.wav\"\n",
    "    ),\n",
    ")"
   ],
   "id": "6f8d4e60739b31b6",
   "outputs": [
    {
     "data": {
      "text/plain": [
       "(True, 0.7374742925167084)"
      ]
     },
     "execution_count": 5,
     "metadata": {},
     "output_type": "execute_result"
    }
   ],
   "execution_count": 5
  },
  {
   "metadata": {
    "ExecuteTime": {
     "end_time": "2024-05-09T20:48:37.376324Z",
     "start_time": "2024-05-09T20:48:37.124442Z"
    }
   },
   "cell_type": "code",
   "source": [
    "voice_recognition_system.verify_user(\n",
    "    user_name=\"id10002\",\n",
    "    user_voice_path=os.path.join(\n",
    "        incoming_authorized_users_path, \"id10002\", \"6WO410QOeuo_00004.wav\"\n",
    "    ),\n",
    ")"
   ],
   "id": "24914a102ac5571c",
   "outputs": [
    {
     "data": {
      "text/plain": [
       "(True, 0.8833703398704529)"
      ]
     },
     "execution_count": 6,
     "metadata": {},
     "output_type": "execute_result"
    }
   ],
   "execution_count": 6
  },
  {
   "metadata": {},
   "cell_type": "markdown",
   "source": [
    "# Testing on unauthorized users\n",
    "using model.recognize() instead of verify_user() to know approximate level of confidence for unauthorized user"
   ],
   "id": "90b76727ced18cc9"
  },
  {
   "metadata": {
    "ExecuteTime": {
     "end_time": "2024-05-09T20:48:37.420443Z",
     "start_time": "2024-05-09T20:48:37.376324Z"
    }
   },
   "cell_type": "code",
   "source": [
    "voice_recognition_system.model.recognize(\n",
    "    audio_path=os.path.join(\n",
    "        incoming_unauthorized_users_path, \"id10101\", \"0uy_NBM97ik_00001.wav\"\n",
    "    )\n",
    ")"
   ],
   "id": "8414901c246acc2",
   "outputs": [
    {
     "data": {
      "text/plain": [
       "{'name': 'id10099', 'confidence': 0.6834990978240967}"
      ]
     },
     "execution_count": 7,
     "metadata": {},
     "output_type": "execute_result"
    }
   ],
   "execution_count": 7
  },
  {
   "metadata": {
    "ExecuteTime": {
     "end_time": "2024-05-09T20:48:37.650379Z",
     "start_time": "2024-05-09T20:48:37.421449Z"
    }
   },
   "cell_type": "code",
   "source": [
    "voice_recognition_system.model.recognize(\n",
    "    audio_path=os.path.join(\n",
    "        incoming_unauthorized_users_path, \"id10102\", \"F2ZDV0esyKc_00003.wav\"\n",
    "    )\n",
    ")"
   ],
   "id": "1b334b81455b9891",
   "outputs": [
    {
     "data": {
      "text/plain": [
       "{'name': 'id10004', 'confidence': 0.6435390561819077}"
      ]
     },
     "execution_count": 8,
     "metadata": {},
     "output_type": "execute_result"
    }
   ],
   "execution_count": 8
  },
  {
   "metadata": {},
   "cell_type": "markdown",
   "source": "# Testing on multiple authorized users",
   "id": "ce2754a28f195503"
  },
  {
   "metadata": {
    "ExecuteTime": {
     "end_time": "2024-05-09T20:50:51.645142Z",
     "start_time": "2024-05-09T20:48:37.650379Z"
    }
   },
   "cell_type": "code",
   "source": [
    "df_multiple_authorized_users = voice_recognition_system.verify_multiple_users(\n",
    "    incoming_users_path=incoming_authorized_users_path\n",
    ")"
   ],
   "id": "da0938dab9f7807a",
   "outputs": [
    {
     "name": "stderr",
     "output_type": "stream",
     "text": [
      "Veryfing multiple users: 100%|██████████| 50/50 [02:13<00:00,  2.68s/it]\n"
     ]
    }
   ],
   "execution_count": 9
  },
  {
   "metadata": {
    "ExecuteTime": {
     "end_time": "2024-05-09T20:50:51.649532Z",
     "start_time": "2024-05-09T20:50:51.646145Z"
    }
   },
   "cell_type": "code",
   "source": "len(df_multiple_authorized_users)",
   "id": "9861f05e66f899c3",
   "outputs": [
    {
     "data": {
      "text/plain": [
       "1918"
      ]
     },
     "execution_count": 10,
     "metadata": {},
     "output_type": "execute_result"
    }
   ],
   "execution_count": 10
  },
  {
   "metadata": {
    "ExecuteTime": {
     "end_time": "2024-05-09T20:50:51.654603Z",
     "start_time": "2024-05-09T20:50:51.650534Z"
    }
   },
   "cell_type": "code",
   "source": "df_multiple_authorized_users[\"is_access_granted\"].sum()",
   "id": "f50b941f3afb827c",
   "outputs": [
    {
     "data": {
      "text/plain": [
       "1864"
      ]
     },
     "execution_count": 11,
     "metadata": {},
     "output_type": "execute_result"
    }
   ],
   "execution_count": 11
  },
  {
   "metadata": {
    "ExecuteTime": {
     "end_time": "2024-05-09T20:50:51.659338Z",
     "start_time": "2024-05-09T20:50:51.655605Z"
    }
   },
   "cell_type": "code",
   "source": [
    "df_multiple_authorized_users[\"is_access_granted\"].sum() / len(\n",
    "    df_multiple_authorized_users\n",
    ")"
   ],
   "id": "9bf8a51adf4dd788",
   "outputs": [
    {
     "data": {
      "text/plain": [
       "0.9718456725755996"
      ]
     },
     "execution_count": 12,
     "metadata": {},
     "output_type": "execute_result"
    }
   ],
   "execution_count": 12
  },
  {
   "metadata": {},
   "cell_type": "markdown",
   "source": [
    "## Applying threshold\n",
    "The objective of this task is to identify the maximum threshold that will allow authorized users to access the system. "
   ],
   "id": "febe98fa4d87898f"
  },
  {
   "metadata": {
    "ExecuteTime": {
     "end_time": "2024-05-09T21:01:23.038932Z",
     "start_time": "2024-05-09T21:01:23.035917Z"
    }
   },
   "cell_type": "code",
   "source": [
    "(df_multiple_authorized_users[\"confidence\"] > 0.5).sum() / len(\n",
    "    df_multiple_authorized_users\n",
    ")"
   ],
   "id": "a553a66418b7b43f",
   "outputs": [
    {
     "data": {
      "text/plain": [
       "1.0"
      ]
     },
     "execution_count": 23,
     "metadata": {},
     "output_type": "execute_result"
    }
   ],
   "execution_count": 23
  },
  {
   "metadata": {
    "ExecuteTime": {
     "end_time": "2024-05-09T21:01:29.599083Z",
     "start_time": "2024-05-09T21:01:29.595706Z"
    }
   },
   "cell_type": "code",
   "source": [
    "(df_multiple_authorized_users[\"confidence\"] > 0.6).sum() / len(\n",
    "    df_multiple_authorized_users\n",
    ")"
   ],
   "id": "8037f469516dbc71",
   "outputs": [
    {
     "data": {
      "text/plain": [
       "0.9979144942648592"
      ]
     },
     "execution_count": 24,
     "metadata": {},
     "output_type": "execute_result"
    }
   ],
   "execution_count": 24
  },
  {
   "metadata": {
    "ExecuteTime": {
     "end_time": "2024-05-09T21:01:06.051063Z",
     "start_time": "2024-05-09T21:01:06.047417Z"
    }
   },
   "cell_type": "code",
   "source": [
    "(df_multiple_authorized_users[\"confidence\"] > 0.65).sum() / len(\n",
    "    df_multiple_authorized_users\n",
    ")"
   ],
   "id": "34bd462dd97f9615",
   "outputs": [
    {
     "data": {
      "text/plain": [
       "0.986444212721585"
      ]
     },
     "execution_count": 22,
     "metadata": {},
     "output_type": "execute_result"
    }
   ],
   "execution_count": 22
  },
  {
   "metadata": {
    "ExecuteTime": {
     "end_time": "2024-05-09T21:01:40.007365Z",
     "start_time": "2024-05-09T21:01:40.004365Z"
    }
   },
   "cell_type": "code",
   "source": [
    "(df_multiple_authorized_users[\"confidence\"] > 0.7).sum() / len(\n",
    "    df_multiple_authorized_users\n",
    ")"
   ],
   "id": "35246296b1783ba5",
   "outputs": [
    {
     "data": {
      "text/plain": [
       "0.9629822732012513"
      ]
     },
     "execution_count": 25,
     "metadata": {},
     "output_type": "execute_result"
    }
   ],
   "execution_count": 25
  },
  {
   "metadata": {
    "ExecuteTime": {
     "end_time": "2024-05-09T21:01:55.005601Z",
     "start_time": "2024-05-09T21:01:55.002077Z"
    }
   },
   "cell_type": "code",
   "source": [
    "(df_multiple_authorized_users[\"confidence\"] > 0.75).sum() / len(\n",
    "    df_multiple_authorized_users\n",
    ")"
   ],
   "id": "a92313145b9a640b",
   "outputs": [
    {
     "data": {
      "text/plain": [
       "0.908237747653806"
      ]
     },
     "execution_count": 26,
     "metadata": {},
     "output_type": "execute_result"
    }
   ],
   "execution_count": 26
  },
  {
   "metadata": {
    "ExecuteTime": {
     "end_time": "2024-05-09T21:02:01.454940Z",
     "start_time": "2024-05-09T21:02:01.451997Z"
    }
   },
   "cell_type": "code",
   "source": [
    "(df_multiple_authorized_users[\"confidence\"] > 0.8).sum() / len(\n",
    "    df_multiple_authorized_users\n",
    ")"
   ],
   "id": "2700688649b92e28",
   "outputs": [
    {
     "data": {
      "text/plain": [
       "0.7372262773722628"
      ]
     },
     "execution_count": 27,
     "metadata": {},
     "output_type": "execute_result"
    }
   ],
   "execution_count": 27
  },
  {
   "metadata": {},
   "cell_type": "markdown",
   "source": [
    "# Testing on multiple unauthorized users with brute force enabled\n",
    "The objective of this task is to identify an optimal threshold that will prevent users from accessing the system even if they attempt to brute force it."
   ],
   "id": "722820d262ac0475"
  },
  {
   "metadata": {
    "ExecuteTime": {
     "end_time": "2024-05-09T20:52:16.879125Z",
     "start_time": "2024-05-09T20:50:51.659338Z"
    }
   },
   "cell_type": "code",
   "source": [
    "df_multiple_unauthorized_users = (\n",
    "    voice_recognition_system_brute_force.verify_multiple_users(\n",
    "        incoming_users_path=incoming_unauthorized_users_path\n",
    "    )\n",
    ")"
   ],
   "id": "2d4f03624ab0aa9f",
   "outputs": [
    {
     "name": "stderr",
     "output_type": "stream",
     "text": [
      "Veryfing multiple users: 100%|██████████| 50/50 [01:25<00:00,  1.70s/it]\n"
     ]
    }
   ],
   "execution_count": 13
  },
  {
   "metadata": {
    "ExecuteTime": {
     "end_time": "2024-05-09T20:52:45.773316Z",
     "start_time": "2024-05-09T20:52:45.768823Z"
    }
   },
   "cell_type": "code",
   "source": [
    "(df_multiple_unauthorized_users[\"confidence\"] > 0.5).sum() / len(\n",
    "    df_multiple_unauthorized_users\n",
    ")"
   ],
   "id": "ddc692702f8f9906",
   "outputs": [
    {
     "data": {
      "text/plain": [
       "1.0"
      ]
     },
     "execution_count": 16,
     "metadata": {},
     "output_type": "execute_result"
    }
   ],
   "execution_count": 16
  },
  {
   "metadata": {
    "ExecuteTime": {
     "end_time": "2024-05-09T20:52:51.739430Z",
     "start_time": "2024-05-09T20:52:51.736391Z"
    }
   },
   "cell_type": "code",
   "source": [
    "(df_multiple_unauthorized_users[\"confidence\"] > 0.6).sum() / len(\n",
    "    df_multiple_unauthorized_users\n",
    ")"
   ],
   "id": "2f67245e02d60942",
   "outputs": [
    {
     "data": {
      "text/plain": [
       "0.9775407074677148"
      ]
     },
     "execution_count": 17,
     "metadata": {},
     "output_type": "execute_result"
    }
   ],
   "execution_count": 17
  },
  {
   "metadata": {
    "ExecuteTime": {
     "end_time": "2024-05-09T20:53:12.081087Z",
     "start_time": "2024-05-09T20:53:12.077862Z"
    }
   },
   "cell_type": "code",
   "source": [
    "(df_multiple_unauthorized_users[\"confidence\"] > 0.65).sum() / len(\n",
    "    df_multiple_unauthorized_users\n",
    ")"
   ],
   "id": "f69f1d6c7e374ef5",
   "outputs": [
    {
     "data": {
      "text/plain": [
       "0.6086468276249298"
      ]
     },
     "execution_count": 20,
     "metadata": {},
     "output_type": "execute_result"
    }
   ],
   "execution_count": 20
  },
  {
   "metadata": {
    "ExecuteTime": {
     "end_time": "2024-05-09T20:52:55.415965Z",
     "start_time": "2024-05-09T20:52:55.412463Z"
    }
   },
   "cell_type": "code",
   "source": [
    "(df_multiple_unauthorized_users[\"confidence\"] > 0.7).sum() / len(\n",
    "    df_multiple_unauthorized_users\n",
    ")"
   ],
   "id": "9a5b614094c5ed79",
   "outputs": [
    {
     "data": {
      "text/plain": [
       "0.1476698483997754"
      ]
     },
     "execution_count": 18,
     "metadata": {},
     "output_type": "execute_result"
    }
   ],
   "execution_count": 18
  },
  {
   "metadata": {
    "ExecuteTime": {
     "end_time": "2024-05-09T20:53:22.629344Z",
     "start_time": "2024-05-09T20:53:22.625854Z"
    }
   },
   "cell_type": "code",
   "source": [
    "(df_multiple_unauthorized_users[\"confidence\"] > 0.75).sum() / len(\n",
    "    df_multiple_unauthorized_users\n",
    ")"
   ],
   "id": "86e7d222a066433e",
   "outputs": [
    {
     "data": {
      "text/plain": [
       "0.018528916339135316"
      ]
     },
     "execution_count": 21,
     "metadata": {},
     "output_type": "execute_result"
    }
   ],
   "execution_count": 21
  },
  {
   "metadata": {
    "ExecuteTime": {
     "end_time": "2024-05-09T20:52:58.451443Z",
     "start_time": "2024-05-09T20:52:58.448282Z"
    }
   },
   "cell_type": "code",
   "source": [
    "(df_multiple_unauthorized_users[\"confidence\"] > 0.8).sum() / len(\n",
    "    df_multiple_unauthorized_users\n",
    ")"
   ],
   "id": "2a9dfe718b015649",
   "outputs": [
    {
     "data": {
      "text/plain": [
       "0.0"
      ]
     },
     "execution_count": 19,
     "metadata": {},
     "output_type": "execute_result"
    }
   ],
   "execution_count": 19
  }
 ],
 "metadata": {
  "kernelspec": {
   "display_name": "Python 3",
   "language": "python",
   "name": "python3"
  },
  "language_info": {
   "codemirror_mode": {
    "name": "ipython",
    "version": 2
   },
   "file_extension": ".py",
   "mimetype": "text/x-python",
   "name": "python",
   "nbconvert_exporter": "python",
   "pygments_lexer": "ipython2",
   "version": "2.7.6"
  }
 },
 "nbformat": 4,
 "nbformat_minor": 5
}
