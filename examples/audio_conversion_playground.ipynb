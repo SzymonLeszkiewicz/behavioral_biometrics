{
 "cells": [
  {
   "cell_type": "code",
   "id": "initial_id",
   "metadata": {
    "collapsed": true,
    "ExecuteTime": {
     "end_time": "2024-05-07T20:39:43.538882Z",
     "start_time": "2024-05-07T20:39:43.529474Z"
    }
   },
   "source": [
    "import os\n",
    "\n",
    "from scripts import audio_conversion"
   ],
   "outputs": [],
   "execution_count": 1
  },
  {
   "metadata": {
    "ExecuteTime": {
     "end_time": "2024-05-07T20:39:43.541526Z",
     "start_time": "2024-05-07T20:39:43.538882Z"
    }
   },
   "cell_type": "code",
   "source": [
    "parent_directory = os.path.abspath(os.path.join(os.getcwd(), os.pardir))\n",
    "data_directory = os.path.join(parent_directory, \"data\")"
   ],
   "id": "216c99e5c2042535",
   "outputs": [],
   "execution_count": 2
  },
  {
   "metadata": {
    "ExecuteTime": {
     "end_time": "2024-05-07T20:39:43.596498Z",
     "start_time": "2024-05-07T20:39:43.541526Z"
    }
   },
   "cell_type": "code",
   "source": [
    "audio_conversion.convert_to_wav(\n",
    "    os.path.join(data_directory, \"Example.m4a\"), os.path.join(data_directory, \"Example.wav\")\n",
    ")"
   ],
   "id": "dd2e215af6a320b6",
   "outputs": [],
   "execution_count": 3
  }
 ],
 "metadata": {
  "kernelspec": {
   "display_name": "Python 3",
   "language": "python",
   "name": "python3"
  },
  "language_info": {
   "codemirror_mode": {
    "name": "ipython",
    "version": 2
   },
   "file_extension": ".py",
   "mimetype": "text/x-python",
   "name": "python",
   "nbconvert_exporter": "python",
   "pygments_lexer": "ipython2",
   "version": "2.7.6"
  }
 },
 "nbformat": 4,
 "nbformat_minor": 5
}
