{
 "cells": [
  {
   "metadata": {},
   "cell_type": "markdown",
   "source": "# Imports",
   "id": "a10703c94098cc52"
  },
  {
   "cell_type": "code",
   "id": "initial_id",
   "metadata": {
    "collapsed": true,
    "ExecuteTime": {
     "end_time": "2024-05-11T16:17:21.833831Z",
     "start_time": "2024-05-11T16:17:19.834514Z"
    }
   },
   "source": [
    "import os\n",
    "\n",
    "import numpy as np\n",
    "\n",
    "from scripts.voice_recognition_system import VoiceRecognitionSystem"
   ],
   "outputs": [],
   "execution_count": 1
  },
  {
   "metadata": {},
   "cell_type": "markdown",
   "source": "# Define File Paths",
   "id": "a330ceeade98d10d"
  },
  {
   "metadata": {
    "ExecuteTime": {
     "end_time": "2024-05-11T16:17:21.838110Z",
     "start_time": "2024-05-11T16:17:21.834834Z"
    }
   },
   "cell_type": "code",
   "source": [
    "parent_directory = os.path.abspath(os.path.join(os.getcwd(), os.pardir))\n",
    "data_directory = os.path.join(parent_directory, \"data\")"
   ],
   "id": "b567ab09b1bc1c03",
   "outputs": [],
   "execution_count": 2
  },
  {
   "metadata": {
    "ExecuteTime": {
     "end_time": "2024-05-11T16:17:21.842792Z",
     "start_time": "2024-05-11T16:17:21.838110Z"
    }
   },
   "cell_type": "code",
   "source": [
    "database_path = os.path.join(data_directory, \"database\")\n",
    "results_path = os.path.join(parent_directory, \"results\")\n",
    "\n",
    "incoming_authorized_users_path = os.path.join(\n",
    "    data_directory, \"database\", \"incoming_users\", \"authorized_users\"\n",
    ")\n",
    "incoming_unauthorized_users_path = os.path.join(\n",
    "    data_directory, \"database\", \"incoming_users\", \"unauthorized_users\"\n",
    ")"
   ],
   "id": "f5248fdc2cbcbdb8",
   "outputs": [],
   "execution_count": 3
  },
  {
   "metadata": {},
   "cell_type": "markdown",
   "source": "# Initialize System",
   "id": "b709cf5dff2b38ff"
  },
  {
   "metadata": {
    "ExecuteTime": {
     "end_time": "2024-05-11T16:17:42.868526Z",
     "start_time": "2024-05-11T16:17:21.842792Z"
    }
   },
   "cell_type": "code",
   "source": [
    "voice_recognition_system = VoiceRecognitionSystem(\n",
    "    database_path, acceptance_threshold=0.7, allow_brute_force=False\n",
    ")"
   ],
   "id": "fd3e458285ff8c7f",
   "outputs": [
    {
     "name": "stderr",
     "output_type": "stream",
     "text": [
      "WARNING:root:unexpected tensor: projection.weight\n",
      "Initializing database: 100%|██████████| 100/100 [00:20<00:00,  4.87it/s]\n"
     ]
    }
   ],
   "execution_count": 4
  },
  {
   "metadata": {},
   "cell_type": "markdown",
   "source": "# Testing on Multiple Users",
   "id": "89c34f47520ba480"
  },
  {
   "metadata": {},
   "cell_type": "markdown",
   "source": "### Authorized without brute force",
   "id": "ca274ad2db8e0612"
  },
  {
   "metadata": {
    "ExecuteTime": {
     "end_time": "2024-05-11T16:20:09.039454Z",
     "start_time": "2024-05-11T16:17:42.869528Z"
    }
   },
   "cell_type": "code",
   "source": [
    "df_authorized_users = voice_recognition_system.verify_multiple_users(\n",
    "    incoming_users_path=incoming_authorized_users_path\n",
    ")"
   ],
   "id": "4b2fd9b4c0fd11fb",
   "outputs": [
    {
     "name": "stderr",
     "output_type": "stream",
     "text": [
      "Veryfing multiple users: 100%|██████████| 50/50 [02:26<00:00,  2.92s/it]\n"
     ]
    }
   ],
   "execution_count": 5
  },
  {
   "metadata": {},
   "cell_type": "markdown",
   "source": "### Unauthorized with brute force",
   "id": "771307f2cccb0c10"
  },
  {
   "metadata": {
    "ExecuteTime": {
     "end_time": "2024-05-11T16:21:39.507459Z",
     "start_time": "2024-05-11T16:20:09.040457Z"
    }
   },
   "cell_type": "code",
   "source": [
    "voice_recognition_system.allow_brute_force = True\n",
    "df_unauthorized_users = voice_recognition_system.verify_multiple_users(\n",
    "    incoming_users_path=incoming_unauthorized_users_path\n",
    ")"
   ],
   "id": "e0b81665766a38ff",
   "outputs": [
    {
     "name": "stderr",
     "output_type": "stream",
     "text": [
      "Veryfing multiple users: 100%|██████████| 50/50 [01:30<00:00,  1.81s/it]\n"
     ]
    }
   ],
   "execution_count": 6
  },
  {
   "metadata": {},
   "cell_type": "markdown",
   "source": "# Calculating metrics",
   "id": "8deaa1761bbb7f28"
  },
  {
   "metadata": {
    "ExecuteTime": {
     "end_time": "2024-05-11T16:21:39.823761Z",
     "start_time": "2024-05-11T16:21:39.507962Z"
    }
   },
   "cell_type": "code",
   "source": [
    "false_acceptance_rate, false_rejection_rate = (\n",
    "    voice_recognition_system.calculate_far_frr(\n",
    "        df_authorized_users, df_unauthorized_users\n",
    "    )\n",
    ")\n",
    "true_negative, false_positive, false_negative, true_positive = (\n",
    "    voice_recognition_system.calculate_ROC_curve(\n",
    "        df_authorized_users,\n",
    "        df_unauthorized_users,\n",
    "        roc_curve_path=os.path.join(results_path, \"ROC_curve.png\"),\n",
    "    )\n",
    ")\n",
    "accuracy = (true_positive + true_negative) / (\n",
    "    true_positive + true_negative + false_positive + false_negative\n",
    ")\n",
    "access_granted_rate = voice_recognition_system.calculate_access_granted_rate(\n",
    "    df_authorized_users\n",
    ")"
   ],
   "id": "6b3a21f90b6c8ee2",
   "outputs": [],
   "execution_count": 7
  },
  {
   "metadata": {
    "ExecuteTime": {
     "end_time": "2024-05-11T16:21:39.828266Z",
     "start_time": "2024-05-11T16:21:39.824763Z"
    }
   },
   "cell_type": "code",
   "source": [
    "results = {\n",
    "    \"FAR\": np.round(false_acceptance_rate, 3),\n",
    "    \"FRR\": np.round(false_rejection_rate, 3),\n",
    "    \"TN\": true_negative,\n",
    "    \"FP\": false_positive,\n",
    "    \"FN\": false_negative,\n",
    "    \"TP\": true_positive,\n",
    "    \"ACC\": np.round(accuracy, 3),\n",
    "    \"AGR\": np.round(access_granted_rate, 3),\n",
    "}"
   ],
   "id": "f6c32a5c55034fdc",
   "outputs": [],
   "execution_count": 8
  },
  {
   "metadata": {
    "ExecuteTime": {
     "end_time": "2024-05-11T16:21:39.848662Z",
     "start_time": "2024-05-11T16:21:39.829269Z"
    }
   },
   "cell_type": "code",
   "source": "results",
   "id": "47c465b8c7ef68e6",
   "outputs": [
    {
     "data": {
      "text/plain": [
       "{'FAR': 0.148,\n",
       " 'FRR': 0.045,\n",
       " 'TN': 1518,\n",
       " 'FP': 263,\n",
       " 'FN': 86,\n",
       " 'TP': 1832,\n",
       " 'ACC': 0.906,\n",
       " 'AGR': 0.955}"
      ]
     },
     "execution_count": 9,
     "metadata": {},
     "output_type": "execute_result"
    }
   ],
   "execution_count": 9
  }
 ],
 "metadata": {
  "kernelspec": {
   "display_name": "Python 3",
   "language": "python",
   "name": "python3"
  },
  "language_info": {
   "codemirror_mode": {
    "name": "ipython",
    "version": 2
   },
   "file_extension": ".py",
   "mimetype": "text/x-python",
   "name": "python",
   "nbconvert_exporter": "python",
   "pygments_lexer": "ipython2",
   "version": "2.7.6"
  }
 },
 "nbformat": 4,
 "nbformat_minor": 5
}
